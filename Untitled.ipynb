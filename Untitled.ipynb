{
 "cells": [
  {
   "cell_type": "code",
   "execution_count": 1,
   "id": "7168b2ea",
   "metadata": {},
   "outputs": [],
   "source": [
    "import numpy as np\n",
    "import pandas as pd\n",
    "import matplotlib.pyplot as plt\n",
    "import geopandas as gpd\n",
    "from datetime import datetime\n",
    "from datetime import timedelta"
   ]
  },
  {
   "cell_type": "code",
   "execution_count": 2,
   "id": "feefaec7",
   "metadata": {},
   "outputs": [],
   "source": [
    "from sklearn.model_selection import train_test_split, GridSearchCV\n",
    "from sklearn.preprocessing import OneHotEncoder\n",
    "from sklearn.linear_model import LogisticRegression\n",
    "from sklearn.naive_bayes import GaussianNB\n",
    "from sklearn.neighbors import KNeighborsClassifier\n",
    "from sklearn.svm import SVC\n",
    "from sklearn.ensemble import AdaBoostClassifier, RandomForestClassifier, BaggingClassifier\n",
    "from sklearn.compose import ColumnTransformer\n",
    "from sklearn.preprocessing import StandardScaler\n",
    "from sklearn.metrics import accuracy_score, accuracy_score, f1_score"
   ]
  },
  {
   "cell_type": "code",
   "execution_count": 3,
   "id": "243d9372",
   "metadata": {},
   "outputs": [],
   "source": [
    "#File locations\n",
    "INCIDENTS = 'incidents.csv'\n",
    "METERS = 'parking_meters.csv'\n",
    "PAYMENTS = 'parking_payments.csv'\n",
    "CLEARED = 'cleared.csv'\n",
    "#read files\n",
    "incidents_raw = pd.read_csv(INCIDENTS)\n",
    "meter_raw = pd.read_csv(METERS)\n",
    "payment_raw = pd.read_csv(PAYMENTS)\n",
    "cleared_raw = pd.read_csv(CLEARED, low_memory=False)"
   ]
  },
  {
   "cell_type": "code",
   "execution_count": 4,
   "id": "2e839e31",
   "metadata": {},
   "outputs": [],
   "source": [
    "#How many unqique poles\n",
    "#4257\n",
    "#find meter time\n",
    "test_ste = payment_raw.date_trans_start[0]\n",
    "datetime.fromisoformat(test_ste)\n",
    "\n",
    "to_datetime = lambda x: datetime.fromisoformat(x)\n",
    "payment_raw.date_trans_start = payment_raw.date_trans_start.apply(to_datetime)\n",
    "payment_raw.date_meter_expire = payment_raw.date_meter_expire.apply(to_datetime)\n",
    "\n",
    "payment_raw['time'] = payment_raw.date_meter_expire - payment_raw.date_trans_start\n"
   ]
  },
  {
   "cell_type": "code",
   "execution_count": 5,
   "id": "70ce0010",
   "metadata": {},
   "outputs": [],
   "source": [
    "#How many payments are for no time\n",
    "#43904\n",
    "#split is mostly cash with a really small amount of credit transactions\n",
    "#drop transactions for zero time\n",
    "zero_payment = payment_raw[payment_raw.time <= timedelta()].index\n",
    "payment_raw.drop(zero_payment, inplace=True)\n",
    "#Parking meters are only active Mon-Sat meaning 'Sunday Mode' meters are duplicates\n",
    "#drop Sunday Mode meters\n",
    "sunday_meters = meter_raw[meter_raw.config_name == 'Sunday Mode'].index\n",
    "meter_raw.drop(sunday_meters, inplace=True)\n",
    "#Median and average time per stay\n",
    "#1hr 15min, 1hr 24min\n",
    "#Most common pay methods\n",
    "#credit card, cash short second\n",
    "#Average transaction amount\n",
    "#$1.34\n",
    "#correlation between cash/card and time?"
   ]
  },
  {
   "cell_type": "code",
   "execution_count": 6,
   "id": "5b1f3a39",
   "metadata": {},
   "outputs": [],
   "source": [
    "graph_1_data = incidents_raw.service_name.value_counts()\n",
    "graph_1_cols = graph_1_data.index[0:9]\n",
    "other_count = graph_1_data.drop(graph_1_cols).sum()\n",
    "\n",
    "graph_1_data = graph_1_data.loc[graph_1_cols]\n",
    "graph_1_data['Other'] = other_count"
   ]
  },
  {
   "cell_type": "code",
   "execution_count": 7,
   "id": "f5b52e6e",
   "metadata": {},
   "outputs": [
    {
     "data": {
      "text/plain": [
       "<AxesSubplot:>"
      ]
     },
     "execution_count": 7,
     "metadata": {},
     "output_type": "execute_result"
    },
    {
     "data": {
      "image/png": "[encoded data removed]",
      "text/plain": [
       "<Figure size 432x288 with 1 Axes>"
      ]
     },
     "metadata": {
      "needs_background": "light"
     },
     "output_type": "display_data"
    }
   ],
   "source": [
    "graph_1_data.plot(kind='bar')"
   ]
  },
  {
   "cell_type": "code",
   "execution_count": 8,
   "id": "34852927",
   "metadata": {},
   "outputs": [
    {
     "data": {
      "text/plain": [
       "<AxesSubplot:>"
      ]
     },
     "execution_count": 8,
     "metadata": {},
     "output_type": "execute_result"
    },
    {
     "data": {
      "image/png": "[encoded data removed]",
      "text/plain": [
       "<Figure size 432x288 with 1 Axes>"
      ]
     },
     "metadata": {
      "needs_background": "light"
     },
     "output_type": "display_data"
    }
   ],
   "source": [
    "payment_raw.pay_method.value_counts().plot(kind='bar')"
   ]
  },
  {
   "cell_type": "code",
   "execution_count": 9,
   "id": "cbb555ef",
   "metadata": {
    "scrolled": false
   },
   "outputs": [
    {
     "data": {
      "text/plain": [
       "338.2957651133501"
      ]
     },
     "metadata": {},
     "output_type": "display_data"
    },
    {
     "data": {
      "text/plain": [
       "Sidewalk Repair Issue                      9712\n",
       "Encampment                                 9604\n",
       "Street Light Maintenance                   7804\n",
       "Pavement Maintenance                       6179\n",
       "Parking                                    5447\n",
       "Graffiti                                   4388\n",
       "Traffic Sign Maintenance                   3365\n",
       "Illegal Dumping                            3012\n",
       "ROW Maintenance                            2414\n",
       "Right-of-Way Code Enforcement              1849\n",
       "Development Services - Code Enforcement    1495\n",
       "Graffiti - Code Enforcement                1222\n",
       "Stormwater                                 1181\n",
       "Tree Maintenance                           1028\n",
       "Traffic Engineering                         976\n",
       "Environmental Services Code Compliance      831\n",
       "Parks Issue                                 445\n",
       "Street Sweeping                             364\n",
       "Missed Collection                           302\n",
       "Pothole                                     275\n",
       "Stormwater Code Enforcement                 273\n",
       "Waste on Private Property                   272\n",
       "Trash/Recycling Collection                  252\n",
       "Shared Mobility Device                      244\n",
       "Other                                       183\n",
       "Street Flooded                              137\n",
       "Weed Cleanup                                136\n",
       "Dead Animal                                  60\n",
       "Traffic Signal Issue                         40\n",
       "Traffic Signal Timing                        29\n",
       "Oversized Vehicle                             1\n",
       "Name: service_name, dtype: int64"
      ]
     },
     "metadata": {},
     "output_type": "display_data"
    },
    {
     "data": {
      "text/plain": [
       "Downtown                        6501\n",
       "Mid-City:City Heights           4589\n",
       "Uptown                          4000\n",
       "North Park                      3697\n",
       "Southeastern San Diego          3277\n",
       "Clairemont Mesa                 3196\n",
       "Pacific Beach                   2544\n",
       "Mid-City:Eastern Area           2162\n",
       "La Jolla                        1998\n",
       "Peninsula                       1993\n",
       "Navajo                          1899\n",
       "Mira Mesa                       1699\n",
       "Otay Mesa-Nestor                1580\n",
       "Skyline-Paradise Hills          1468\n",
       "Encanto Neighborhoods           1428\n",
       "Greater Golden Hill             1273\n",
       "Mid-City:Normal Heights         1247\n",
       "College Area                    1238\n",
       "Balboa Park                     1187\n",
       "Ocean Beach                     1168\n",
       "Mission Valley                  1108\n",
       "Mid-City:Kensington-Talmadge    1028\n",
       "Midway-Pacific Highway          1024\n",
       "University                       961\n",
       "Kearny Mesa                      874\n",
       "Mission Bay Park                 865\n",
       "Rancho Bernardo                  862\n",
       "Rancho Penasquitos               799\n",
       "Linda Vista                      777\n",
       "Barrio Logan                     767\n",
       "Serra Mesa                       741\n",
       "Carmel Valley                    628\n",
       "Mission Beach                    625\n",
       "San Ysidro                       548\n",
       "Scripps Miramar Ranch            542\n",
       "Otay Mesa                        542\n",
       "Tierrasanta                      508\n",
       "Torrey Pines                     384\n",
       "Carmel Mountain Ranch            211\n",
       "Miramar Ranch North              200\n",
       "Old Town San Diego               194\n",
       "Torrey Highlands                 187\n",
       "Sabre Springs                    146\n",
       "Torrey Hills                     105\n",
       "Military Facilities               87\n",
       "Black Mountain Ranch              83\n",
       "Pacific Highlands Ranch           80\n",
       "Reserve                           67\n",
       "Rancho Encantada                  66\n",
       "Tijuana River Valley              30\n",
       "Los Penasquitos Canyon            29\n",
       "Via De La Valle                   17\n",
       "San Pasqual                       16\n",
       "Ncfua Subarea Ii                  14\n",
       "Del Mar Mesa                      14\n",
       "Fairbanks Ranch Country Club      10\n",
       "East Elliott                       7\n",
       "Name: comm_plan_name, dtype: int64"
      ]
     },
     "metadata": {},
     "output_type": "display_data"
    },
    {
     "data": {
      "text/html": [
       "<div>\n",
       "<style scoped>\n",
       "    .dataframe tbody tr th:only-of-type {\n",
       "        vertical-align: middle;\n",
       "    }\n",
       "\n",
       "    .dataframe tbody tr th {\n",
       "        vertical-align: top;\n",
       "    }\n",
       "\n",
       "    .dataframe thead th {\n",
       "        text-align: right;\n",
       "    }\n",
       "</style>\n",
       "<table border=\"1\" class=\"dataframe\">\n",
       "  <thead>\n",
       "    <tr style=\"text-align: right;\">\n",
       "      <th></th>\n",
       "      <th>case_age_days</th>\n",
       "    </tr>\n",
       "    <tr>\n",
       "      <th>case_origin</th>\n",
       "      <th></th>\n",
       "    </tr>\n",
       "  </thead>\n",
       "  <tbody>\n",
       "    <tr>\n",
       "      <th>Famosa Patrol</th>\n",
       "      <td>9.000000</td>\n",
       "    </tr>\n",
       "    <tr>\n",
       "      <th>Self-Generated</th>\n",
       "      <td>38.823529</td>\n",
       "    </tr>\n",
       "    <tr>\n",
       "      <th>GID Field</th>\n",
       "      <td>41.615385</td>\n",
       "    </tr>\n",
       "    <tr>\n",
       "      <th>Worker App</th>\n",
       "      <td>49.024958</td>\n",
       "    </tr>\n",
       "    <tr>\n",
       "      <th>Residential Patrol</th>\n",
       "      <td>51.833333</td>\n",
       "    </tr>\n",
       "    <tr>\n",
       "      <th>Hauler List</th>\n",
       "      <td>89.140940</td>\n",
       "    </tr>\n",
       "    <tr>\n",
       "      <th>Irrigation Patrol</th>\n",
       "      <td>97.000000</td>\n",
       "    </tr>\n",
       "    <tr>\n",
       "      <th>CC Self Generate</th>\n",
       "      <td>132.916667</td>\n",
       "    </tr>\n",
       "    <tr>\n",
       "      <th>Construction Patrol</th>\n",
       "      <td>193.500000</td>\n",
       "    </tr>\n",
       "    <tr>\n",
       "      <th>Mobile</th>\n",
       "      <td>293.876686</td>\n",
       "    </tr>\n",
       "    <tr>\n",
       "      <th>Web</th>\n",
       "      <td>399.571851</td>\n",
       "    </tr>\n",
       "    <tr>\n",
       "      <th>Phone</th>\n",
       "      <td>627.767455</td>\n",
       "    </tr>\n",
       "    <tr>\n",
       "      <th>FO Self Generate</th>\n",
       "      <td>661.600000</td>\n",
       "    </tr>\n",
       "    <tr>\n",
       "      <th>Email</th>\n",
       "      <td>1065.379121</td>\n",
       "    </tr>\n",
       "    <tr>\n",
       "      <th>Letter</th>\n",
       "      <td>1088.000000</td>\n",
       "    </tr>\n",
       "    <tr>\n",
       "      <th>Internal</th>\n",
       "      <td>1107.000000</td>\n",
       "    </tr>\n",
       "    <tr>\n",
       "      <th>Crew/Self Generated</th>\n",
       "      <td>1553.700000</td>\n",
       "    </tr>\n",
       "    <tr>\n",
       "      <th>Walk-In</th>\n",
       "      <td>1595.000000</td>\n",
       "    </tr>\n",
       "    <tr>\n",
       "      <th>Referral Notice</th>\n",
       "      <td>1836.000000</td>\n",
       "    </tr>\n",
       "  </tbody>\n",
       "</table>\n",
       "</div>"
      ],
      "text/plain": [
       "                     case_age_days\n",
       "case_origin                       \n",
       "Famosa Patrol             9.000000\n",
       "Self-Generated           38.823529\n",
       "GID Field                41.615385\n",
       "Worker App               49.024958\n",
       "Residential Patrol       51.833333\n",
       "Hauler List              89.140940\n",
       "Irrigation Patrol        97.000000\n",
       "CC Self Generate        132.916667\n",
       "Construction Patrol     193.500000\n",
       "Mobile                  293.876686\n",
       "Web                     399.571851\n",
       "Phone                   627.767455\n",
       "FO Self Generate        661.600000\n",
       "Email                  1065.379121\n",
       "Letter                 1088.000000\n",
       "Internal               1107.000000\n",
       "Crew/Self Generated    1553.700000\n",
       "Walk-In                1595.000000\n",
       "Referral Notice        1836.000000"
      ]
     },
     "metadata": {},
     "output_type": "display_data"
    },
    {
     "data": {
      "image/png": "[encoded data removed]",
      "text/plain": [
       "<Figure size 432x288 with 1 Axes>"
      ]
     },
     "metadata": {
      "needs_background": "light"
     },
     "output_type": "display_data"
    }
   ],
   "source": [
    "incidents_raw.columns\n",
    "#average case age, case_age_days\n",
    "display(incidents_raw.case_age_days.mean())\n",
    "incidents_raw.case_age_days.hist()\n",
    "#service counts, service_name\n",
    "display(incidents_raw.service_name.value_counts())\n",
    "#are people calling in the same events?\n",
    "#count of incidents per county, comm_plan_name / correct for pop density?\n",
    "display(incidents_raw.comm_plan_name.value_counts())\n",
    "#case_origin with case age, case_origin/case_age_days\n",
    "display(incidents_raw.loc[:,['case_origin', 'case_age_days']].groupby('case_origin').mean().sort_values('case_age_days'))"
   ]
  },
  {
   "cell_type": "code",
   "execution_count": 10,
   "id": "bfd8c269",
   "metadata": {
    "scrolled": true
   },
   "outputs": [
    {
     "data": {
      "text/html": [
       "<div>\n",
       "<style scoped>\n",
       "    .dataframe tbody tr th:only-of-type {\n",
       "        vertical-align: middle;\n",
       "    }\n",
       "\n",
       "    .dataframe tbody tr th {\n",
       "        vertical-align: top;\n",
       "    }\n",
       "\n",
       "    .dataframe thead th {\n",
       "        text-align: right;\n",
       "    }\n",
       "</style>\n",
       "<table border=\"1\" class=\"dataframe\">\n",
       "  <thead>\n",
       "    <tr style=\"text-align: right;\">\n",
       "      <th></th>\n",
       "      <th></th>\n",
       "      <th>case_origin</th>\n",
       "      <th>service_name</th>\n",
       "      <th>status</th>\n",
       "    </tr>\n",
       "    <tr>\n",
       "      <th>service_name</th>\n",
       "      <th></th>\n",
       "      <th></th>\n",
       "      <th></th>\n",
       "      <th></th>\n",
       "    </tr>\n",
       "  </thead>\n",
       "  <tbody>\n",
       "    <tr>\n",
       "      <th rowspan=\"3\" valign=\"top\">Dead Animal</th>\n",
       "      <th>64</th>\n",
       "      <td>Phone</td>\n",
       "      <td>Dead Animal</td>\n",
       "      <td>39</td>\n",
       "    </tr>\n",
       "    <tr>\n",
       "      <th>33</th>\n",
       "      <td>Mobile</td>\n",
       "      <td>Dead Animal</td>\n",
       "      <td>18</td>\n",
       "    </tr>\n",
       "    <tr>\n",
       "      <th>96</th>\n",
       "      <td>Web</td>\n",
       "      <td>Dead Animal</td>\n",
       "      <td>3</td>\n",
       "    </tr>\n",
       "    <tr>\n",
       "      <th rowspan=\"2\" valign=\"top\">Development Services - Code Enforcement</th>\n",
       "      <th>34</th>\n",
       "      <td>Mobile</td>\n",
       "      <td>Development Services - Code Enforcement</td>\n",
       "      <td>1290</td>\n",
       "    </tr>\n",
       "    <tr>\n",
       "      <th>97</th>\n",
       "      <td>Web</td>\n",
       "      <td>Development Services - Code Enforcement</td>\n",
       "      <td>191</td>\n",
       "    </tr>\n",
       "    <tr>\n",
       "      <th>...</th>\n",
       "      <th>...</th>\n",
       "      <td>...</td>\n",
       "      <td>...</td>\n",
       "      <td>...</td>\n",
       "    </tr>\n",
       "    <tr>\n",
       "      <th rowspan=\"2\" valign=\"top\">Waste on Private Property</th>\n",
       "      <th>90</th>\n",
       "      <td>Phone</td>\n",
       "      <td>Waste on Private Property</td>\n",
       "      <td>16</td>\n",
       "    </tr>\n",
       "    <tr>\n",
       "      <th>3</th>\n",
       "      <td>CC Self Generate</td>\n",
       "      <td>Waste on Private Property</td>\n",
       "      <td>1</td>\n",
       "    </tr>\n",
       "    <tr>\n",
       "      <th rowspan=\"3\" valign=\"top\">Weed Cleanup</th>\n",
       "      <th>63</th>\n",
       "      <td>Mobile</td>\n",
       "      <td>Weed Cleanup</td>\n",
       "      <td>100</td>\n",
       "    </tr>\n",
       "    <tr>\n",
       "      <th>125</th>\n",
       "      <td>Web</td>\n",
       "      <td>Weed Cleanup</td>\n",
       "      <td>31</td>\n",
       "    </tr>\n",
       "    <tr>\n",
       "      <th>91</th>\n",
       "      <td>Phone</td>\n",
       "      <td>Weed Cleanup</td>\n",
       "      <td>5</td>\n",
       "    </tr>\n",
       "  </tbody>\n",
       "</table>\n",
       "<p>129 rows × 3 columns</p>\n",
       "</div>"
      ],
      "text/plain": [
       "                                                  case_origin  \\\n",
       "service_name                                                    \n",
       "Dead Animal                             64              Phone   \n",
       "                                        33             Mobile   \n",
       "                                        96                Web   \n",
       "Development Services - Code Enforcement 34             Mobile   \n",
       "                                        97                Web   \n",
       "...                                                       ...   \n",
       "Waste on Private Property               90              Phone   \n",
       "                                        3    CC Self Generate   \n",
       "Weed Cleanup                            63             Mobile   \n",
       "                                        125               Web   \n",
       "                                        91              Phone   \n",
       "\n",
       "                                                                        service_name  \\\n",
       "service_name                                                                           \n",
       "Dead Animal                             64                               Dead Animal   \n",
       "                                        33                               Dead Animal   \n",
       "                                        96                               Dead Animal   \n",
       "Development Services - Code Enforcement 34   Development Services - Code Enforcement   \n",
       "                                        97   Development Services - Code Enforcement   \n",
       "...                                                                              ...   \n",
       "Waste on Private Property               90                 Waste on Private Property   \n",
       "                                        3                  Waste on Private Property   \n",
       "Weed Cleanup                            63                              Weed Cleanup   \n",
       "                                        125                             Weed Cleanup   \n",
       "                                        91                              Weed Cleanup   \n",
       "\n",
       "                                             status  \n",
       "service_name                                         \n",
       "Dead Animal                             64       39  \n",
       "                                        33       18  \n",
       "                                        96        3  \n",
       "Development Services - Code Enforcement 34     1290  \n",
       "                                        97      191  \n",
       "...                                             ...  \n",
       "Waste on Private Property               90       16  \n",
       "                                        3         1  \n",
       "Weed Cleanup                            63      100  \n",
       "                                        125      31  \n",
       "                                        91        5  \n",
       "\n",
       "[129 rows x 3 columns]"
      ]
     },
     "execution_count": 10,
     "metadata": {},
     "output_type": "execute_result"
    }
   ],
   "source": [
    "incidents_raw.loc[:,['case_origin','service_name','status']].groupby(['case_origin', 'service_name']).count().reset_index().groupby('service_name').apply(lambda x: x.sort_values('status', ascending=False))"
   ]
  },
  {
   "cell_type": "code",
   "execution_count": 11,
   "id": "260bea0e",
   "metadata": {},
   "outputs": [],
   "source": [
    "#outlier analysis needed for meters and incidents"
   ]
  },
  {
   "cell_type": "code",
   "execution_count": 12,
   "id": "b2a89b0f",
   "metadata": {},
   "outputs": [],
   "source": [
    "#add geometry and determine CRS\n",
    "meter_df = gpd.GeoDataFrame(meter_raw, geometry=gpd.points_from_xy(meter_raw.lng, meter_raw.lat), crs='EPSG:4326').to_crs(epsg=3857)\n",
    "incidents_df = gpd.GeoDataFrame(incidents_raw, geometry=gpd.points_from_xy(incidents_raw.lng, incidents_raw.lat),crs='EPSG:4326').to_crs(epsg=3857)\n",
    "cleared_df = gpd.GeoDataFrame(cleared_raw, geometry=gpd.points_from_xy(cleared_raw.lng, cleared_raw.lat),crs='EPSG:4326').to_crs(epsg=3857)"
   ]
  },
  {
   "cell_type": "code",
   "execution_count": 13,
   "id": "5c06c020",
   "metadata": {},
   "outputs": [],
   "source": [
    "ZIPS = 'zips.geojson'\n",
    "zip_gdf = gpd.read_file(ZIPS).to_crs(epsg=3857)\n",
    "\n",
    "#get only zipcodes that have a meter\n",
    "meter_zips = zip_gdf.sjoin(meter_df, how='inner')\n",
    "#get zipcodes that have a meter and at least one current GID request\n",
    "incidents_zips = zip_gdf.loc[meter_zips.index.unique(),:].sjoin(incidents_df, how='inner')\n",
    "#get zipcodes that have a meter and a resolved GID request\n",
    "cleared_zips = zip_gdf.loc[meter_zips.index.unique(),:].sjoin(cleared_df, how='inner')"
   ]
  },
  {
   "cell_type": "code",
   "execution_count": 14,
   "id": "6c726098",
   "metadata": {},
   "outputs": [],
   "source": [
    "#only keep meters with incidents\n",
    "VALID_METERS = meter_zips.index_right\n",
    "meter_df = meter_df.loc[VALID_METERS]\n",
    "VALID_INCIDENTS = incidents_zips.index_right\n",
    "incidents_df = incidents_df.loc[VALID_INCIDENTS]\n",
    "VALID_CLEARED = cleared_zips.index_right\n",
    "cleared_df = cleared_df.loc[VALID_CLEARED]\n",
    "\n",
    "POPULATED_ZIPS = cleared_zips.index\n"
   ]
  },
  {
   "cell_type": "code",
   "execution_count": 15,
   "id": "0b82df0c",
   "metadata": {},
   "outputs": [
    {
     "data": {
      "text/plain": [
       "Text(0.5, 1.0, 'Locations of incidents and parking meters')"
      ]
     },
     "execution_count": 15,
     "metadata": {},
     "output_type": "execute_result"
    },
    {
     "data": {
      "image/png": "[encoded data removed]",
      "text/plain": [
       "<Figure size 720x720 with 1 Axes>"
      ]
     },
     "metadata": {
      "needs_background": "light"
     },
     "output_type": "display_data"
    }
   ],
   "source": [
    "map_1 = zip_gdf.loc[POPULATED_ZIPS].plot(figsize=(10,10))\n",
    "cleared_df.plot(color='green', ax=map_1)\n",
    "meter_df.plot(color='red', ax=map_1)\n",
    "map_1.set_title('Locations of incidents and parking meters')"
   ]
  },
  {
   "cell_type": "code",
   "execution_count": 16,
   "id": "6310aeef",
   "metadata": {},
   "outputs": [],
   "source": [
    "def fix_date(datestr):\n",
    "    if pd.isna(datestr):\n",
    "        return np.nan\n",
    "    year, month, day = datestr.split('-')\n",
    "    return datetime(int(year), int(month), int(day))"
   ]
  },
  {
   "cell_type": "code",
   "execution_count": 17,
   "id": "400985e6",
   "metadata": {},
   "outputs": [],
   "source": [
    "tester = cleared_df.date_closed.apply(fix_date)"
   ]
  },
  {
   "cell_type": "code",
   "execution_count": 18,
   "id": "876d7ada",
   "metadata": {},
   "outputs": [
    {
     "data": {
      "text/plain": [
       "Index(['service_request_id', 'service_request_parent_id',\n",
       "       'sap_notification_number', 'date_requested', 'case_age_days',\n",
       "       'case_record_type', 'service_name', 'service_name_detail',\n",
       "       'date_closed', 'status', 'lat', 'lng', 'street_address', 'zipcode',\n",
       "       'council_district', 'comm_plan_code', 'comm_plan_name', 'park_name',\n",
       "       'case_origin', 'referred', 'iamfloc', 'floc', 'public_description',\n",
       "       'geometry'],\n",
       "      dtype='object')"
      ]
     },
     "execution_count": 18,
     "metadata": {},
     "output_type": "execute_result"
    }
   ],
   "source": [
    "cleared_df.columns"
   ]
  },
  {
   "cell_type": "code",
   "execution_count": 19,
   "id": "8f1df584",
   "metadata": {},
   "outputs": [
    {
     "data": {
      "text/html": [
       "<div>\n",
       "<style scoped>\n",
       "    .dataframe tbody tr th:only-of-type {\n",
       "        vertical-align: middle;\n",
       "    }\n",
       "\n",
       "    .dataframe tbody tr th {\n",
       "        vertical-align: top;\n",
       "    }\n",
       "\n",
       "    .dataframe thead th {\n",
       "        text-align: right;\n",
       "    }\n",
       "</style>\n",
       "<table border=\"1\" class=\"dataframe\">\n",
       "  <thead>\n",
       "    <tr style=\"text-align: right;\">\n",
       "      <th></th>\n",
       "      <th>zone</th>\n",
       "      <th>area</th>\n",
       "      <th>sub_area</th>\n",
       "      <th>pole</th>\n",
       "      <th>config_id</th>\n",
       "      <th>config_name</th>\n",
       "      <th>date_inventory</th>\n",
       "      <th>lat</th>\n",
       "      <th>lng</th>\n",
       "      <th>sapid</th>\n",
       "      <th>geometry</th>\n",
       "    </tr>\n",
       "  </thead>\n",
       "  <tbody>\n",
       "    <tr>\n",
       "      <th>4586</th>\n",
       "      <td>Downtown</td>\n",
       "      <td>Cortez Hill</td>\n",
       "      <td>1500 EIGHTH AVE</td>\n",
       "      <td>8-1502</td>\n",
       "      <td>9116</td>\n",
       "      <td>30 Min Max $1.25 HR 8am-6pm Mon-Sat (NFC)</td>\n",
       "      <td>2018-11-11</td>\n",
       "      <td>32.721657</td>\n",
       "      <td>-117.157501</td>\n",
       "      <td>SS-000262</td>\n",
       "      <td>POINT (-13041913.354 3858416.597)</td>\n",
       "    </tr>\n",
       "    <tr>\n",
       "      <th>4588</th>\n",
       "      <td>Downtown</td>\n",
       "      <td>Cortez Hill</td>\n",
       "      <td>1500 EIGHTH AVE</td>\n",
       "      <td>8-1504</td>\n",
       "      <td>9116</td>\n",
       "      <td>30 Min Max $1.25 HR 8am-6pm Mon-Sat (NFC)</td>\n",
       "      <td>2018-11-11</td>\n",
       "      <td>32.721657</td>\n",
       "      <td>-117.157501</td>\n",
       "      <td>SS-000262</td>\n",
       "      <td>POINT (-13041913.354 3858416.597)</td>\n",
       "    </tr>\n",
       "    <tr>\n",
       "      <th>4612</th>\n",
       "      <td>Downtown</td>\n",
       "      <td>Cortez Hill</td>\n",
       "      <td>1500 EIGHTH AVE</td>\n",
       "      <td>8-1534</td>\n",
       "      <td>9268</td>\n",
       "      <td>9 Hour Max $0.50 HR 8am-6pm Mon-Sat (NFC)</td>\n",
       "      <td>2018-11-11</td>\n",
       "      <td>32.721657</td>\n",
       "      <td>-117.157501</td>\n",
       "      <td>SS-000262</td>\n",
       "      <td>POINT (-13041913.354 3858416.597)</td>\n",
       "    </tr>\n",
       "    <tr>\n",
       "      <th>4606</th>\n",
       "      <td>Downtown</td>\n",
       "      <td>Cortez Hill</td>\n",
       "      <td>1500 EIGHTH AVE</td>\n",
       "      <td>8-1528</td>\n",
       "      <td>9268</td>\n",
       "      <td>9 Hour Max $0.50 HR 8am-6pm Mon-Sat (NFC)</td>\n",
       "      <td>2018-11-11</td>\n",
       "      <td>32.721731</td>\n",
       "      <td>-117.157575</td>\n",
       "      <td>SS-000262</td>\n",
       "      <td>POINT (-13041921.592 3858426.388)</td>\n",
       "    </tr>\n",
       "    <tr>\n",
       "      <th>4608</th>\n",
       "      <td>Downtown</td>\n",
       "      <td>Cortez Hill</td>\n",
       "      <td>1500 EIGHTH AVE</td>\n",
       "      <td>8-1530</td>\n",
       "      <td>9268</td>\n",
       "      <td>9 Hour Max $0.50 HR 8am-6pm Mon-Sat (NFC)</td>\n",
       "      <td>2018-11-11</td>\n",
       "      <td>32.721808</td>\n",
       "      <td>-117.157576</td>\n",
       "      <td>SS-000262</td>\n",
       "      <td>POINT (-13041921.703 3858436.577)</td>\n",
       "    </tr>\n",
       "    <tr>\n",
       "      <th>...</th>\n",
       "      <td>...</td>\n",
       "      <td>...</td>\n",
       "      <td>...</td>\n",
       "      <td>...</td>\n",
       "      <td>...</td>\n",
       "      <td>...</td>\n",
       "      <td>...</td>\n",
       "      <td>...</td>\n",
       "      <td>...</td>\n",
       "      <td>...</td>\n",
       "      <td>...</td>\n",
       "    </tr>\n",
       "    <tr>\n",
       "      <th>8158</th>\n",
       "      <td>Uptown</td>\n",
       "      <td>University Heights</td>\n",
       "      <td>1700 MONROE AVE</td>\n",
       "      <td>MO-1734</td>\n",
       "      <td>8999</td>\n",
       "      <td>1 Hour Max $1.25 HR 8am-6pm Mon-Sat (NFC)</td>\n",
       "      <td>2019-12-29</td>\n",
       "      <td>32.759195</td>\n",
       "      <td>-117.146514</td>\n",
       "      <td>SS-018785</td>\n",
       "      <td>POINT (-13040690.287 3863384.573)</td>\n",
       "    </tr>\n",
       "    <tr>\n",
       "      <th>8164</th>\n",
       "      <td>Mid-City</td>\n",
       "      <td>University Heights</td>\n",
       "      <td>1800 MONROE AVE</td>\n",
       "      <td>MO-1802</td>\n",
       "      <td>9000</td>\n",
       "      <td>2 Hour Max $1.25 HR 8am-6pm Mon-Sat (NFC)</td>\n",
       "      <td>2019-12-29</td>\n",
       "      <td>32.759206</td>\n",
       "      <td>-117.146050</td>\n",
       "      <td>SS-018786</td>\n",
       "      <td>POINT (-13040638.634 3863386.029)</td>\n",
       "    </tr>\n",
       "    <tr>\n",
       "      <th>8156</th>\n",
       "      <td>Uptown</td>\n",
       "      <td>University Heights</td>\n",
       "      <td>1700 MONROE AVE</td>\n",
       "      <td>MO-1732</td>\n",
       "      <td>8999</td>\n",
       "      <td>1 Hour Max $1.25 HR 8am-6pm Mon-Sat (NFC)</td>\n",
       "      <td>2019-12-29</td>\n",
       "      <td>32.759207</td>\n",
       "      <td>-117.146550</td>\n",
       "      <td>SS-018785</td>\n",
       "      <td>POINT (-13040694.294 3863386.162)</td>\n",
       "    </tr>\n",
       "    <tr>\n",
       "      <th>8162</th>\n",
       "      <td>Mid-City</td>\n",
       "      <td>University Heights</td>\n",
       "      <td>1800 MONROE AVE</td>\n",
       "      <td>MO-1800</td>\n",
       "      <td>9000</td>\n",
       "      <td>2 Hour Max $1.25 HR 8am-6pm Mon-Sat (NFC)</td>\n",
       "      <td>2019-12-29</td>\n",
       "      <td>32.759211</td>\n",
       "      <td>-117.146195</td>\n",
       "      <td>SS-018786</td>\n",
       "      <td>POINT (-13040654.776 3863386.691)</td>\n",
       "    </tr>\n",
       "    <tr>\n",
       "      <th>10223</th>\n",
       "      <td>Downtown</td>\n",
       "      <td>Marina</td>\n",
       "      <td>700 WEST E ST</td>\n",
       "      <td>WE-701</td>\n",
       "      <td>14760</td>\n",
       "      <td>2 Hour Max $1.25 HR 8am-6pm Mon-Sat      (Mobi...</td>\n",
       "      <td>2019-12-29</td>\n",
       "      <td>32.916651</td>\n",
       "      <td>-117.154838</td>\n",
       "      <td>SS-029799</td>\n",
       "      <td>POINT (-13041616.910 3884245.996)</td>\n",
       "    </tr>\n",
       "  </tbody>\n",
       "</table>\n",
       "<p>6247 rows × 11 columns</p>\n",
       "</div>"
      ],
      "text/plain": [
       "           zone                area         sub_area     pole  config_id  \\\n",
       "4586   Downtown         Cortez Hill  1500 EIGHTH AVE   8-1502       9116   \n",
       "4588   Downtown         Cortez Hill  1500 EIGHTH AVE   8-1504       9116   \n",
       "4612   Downtown         Cortez Hill  1500 EIGHTH AVE   8-1534       9268   \n",
       "4606   Downtown         Cortez Hill  1500 EIGHTH AVE   8-1528       9268   \n",
       "4608   Downtown         Cortez Hill  1500 EIGHTH AVE   8-1530       9268   \n",
       "...         ...                 ...              ...      ...        ...   \n",
       "8158     Uptown  University Heights  1700 MONROE AVE  MO-1734       8999   \n",
       "8164   Mid-City  University Heights  1800 MONROE AVE  MO-1802       9000   \n",
       "8156     Uptown  University Heights  1700 MONROE AVE  MO-1732       8999   \n",
       "8162   Mid-City  University Heights  1800 MONROE AVE  MO-1800       9000   \n",
       "10223  Downtown              Marina    700 WEST E ST   WE-701      14760   \n",
       "\n",
       "                                             config_name date_inventory  \\\n",
       "4586           30 Min Max $1.25 HR 8am-6pm Mon-Sat (NFC)     2018-11-11   \n",
       "4588           30 Min Max $1.25 HR 8am-6pm Mon-Sat (NFC)     2018-11-11   \n",
       "4612           9 Hour Max $0.50 HR 8am-6pm Mon-Sat (NFC)     2018-11-11   \n",
       "4606           9 Hour Max $0.50 HR 8am-6pm Mon-Sat (NFC)     2018-11-11   \n",
       "4608           9 Hour Max $0.50 HR 8am-6pm Mon-Sat (NFC)     2018-11-11   \n",
       "...                                                  ...            ...   \n",
       "8158           1 Hour Max $1.25 HR 8am-6pm Mon-Sat (NFC)     2019-12-29   \n",
       "8164           2 Hour Max $1.25 HR 8am-6pm Mon-Sat (NFC)     2019-12-29   \n",
       "8156           1 Hour Max $1.25 HR 8am-6pm Mon-Sat (NFC)     2019-12-29   \n",
       "8162           2 Hour Max $1.25 HR 8am-6pm Mon-Sat (NFC)     2019-12-29   \n",
       "10223  2 Hour Max $1.25 HR 8am-6pm Mon-Sat      (Mobi...     2019-12-29   \n",
       "\n",
       "             lat         lng      sapid                           geometry  \n",
       "4586   32.721657 -117.157501  SS-000262  POINT (-13041913.354 3858416.597)  \n",
       "4588   32.721657 -117.157501  SS-000262  POINT (-13041913.354 3858416.597)  \n",
       "4612   32.721657 -117.157501  SS-000262  POINT (-13041913.354 3858416.597)  \n",
       "4606   32.721731 -117.157575  SS-000262  POINT (-13041921.592 3858426.388)  \n",
       "4608   32.721808 -117.157576  SS-000262  POINT (-13041921.703 3858436.577)  \n",
       "...          ...         ...        ...                                ...  \n",
       "8158   32.759195 -117.146514  SS-018785  POINT (-13040690.287 3863384.573)  \n",
       "8164   32.759206 -117.146050  SS-018786  POINT (-13040638.634 3863386.029)  \n",
       "8156   32.759207 -117.146550  SS-018785  POINT (-13040694.294 3863386.162)  \n",
       "8162   32.759211 -117.146195  SS-018786  POINT (-13040654.776 3863386.691)  \n",
       "10223  32.916651 -117.154838  SS-029799  POINT (-13041616.910 3884245.996)  \n",
       "\n",
       "[6247 rows x 11 columns]"
      ]
     },
     "execution_count": 19,
     "metadata": {},
     "output_type": "execute_result"
    }
   ],
   "source": [
    "meter_df"
   ]
  },
  {
   "cell_type": "code",
   "execution_count": 20,
   "id": "a7529ba4",
   "metadata": {},
   "outputs": [
    {
     "data": {
      "text/plain": [
       "1575137   0 days 00:00:01\n",
       "1042731   0 days 00:00:01\n",
       "2950464   0 days 00:00:01\n",
       "2285847   0 days 00:00:01\n",
       "4935741   0 days 00:00:01\n",
       "                ...      \n",
       "2020429   0 days 10:59:49\n",
       "2100815   0 days 10:59:49\n",
       "1416666   0 days 10:59:50\n",
       "1694681   0 days 10:59:55\n",
       "2554839   0 days 16:55:31\n",
       "Name: time, Length: 5269551, dtype: timedelta64[ns]"
      ]
     },
     "execution_count": 20,
     "metadata": {},
     "output_type": "execute_result"
    }
   ],
   "source": [
    "#clean transactions with zero time\n",
    "#\n",
    "payment_raw.time.sort_values()"
   ]
  },
  {
   "cell_type": "code",
   "execution_count": 21,
   "id": "aeff1439",
   "metadata": {},
   "outputs": [],
   "source": [
    "meter_buffer = meter_df.copy()\n",
    "meter_buffer.geometry = meter_df.buffer(50)\n",
    "valid_cleared = cleared_df.sjoin(meter_buffer,how='inner')\n",
    "valid_cleared.reset_index(drop=True,inplace=True)\n",
    "valid_cleared.date_closed = valid_cleared.date_closed.apply(fix_date)"
   ]
  },
  {
   "cell_type": "code",
   "execution_count": 22,
   "id": "6391733a",
   "metadata": {},
   "outputs": [],
   "source": [
    "COLUMNS_CLEARED = ['service_request_id','date_requested', 'case_age_days','service_name',\n",
    "                   'date_closed','zipcode','case_origin','geometry','pole',]\n",
    "valid_cleared = valid_cleared.loc[:,COLUMNS_CLEARED]"
   ]
  },
  {
   "cell_type": "code",
   "execution_count": 23,
   "id": "cbe55ab3",
   "metadata": {
    "scrolled": true
   },
   "outputs": [
    {
     "data": {
      "text/plain": [
       "count    6032.000000\n",
       "mean       55.472149\n",
       "std        61.393730\n",
       "min         1.000000\n",
       "25%        18.000000\n",
       "50%        33.000000\n",
       "75%        69.000000\n",
       "max       560.000000\n",
       "Name: service_request_id, dtype: float64"
      ]
     },
     "execution_count": 23,
     "metadata": {},
     "output_type": "execute_result"
    }
   ],
   "source": [
    "valid_cleared.groupby('pole').count().service_request_id.describe()"
   ]
  },
  {
   "cell_type": "code",
   "execution_count": 24,
   "id": "6a99fb1c",
   "metadata": {
    "scrolled": true
   },
   "outputs": [],
   "source": [
    "#TODO average money made 2 weeks before accident resolve and money after 2 week of resolve\n",
    "unique_poles = valid_cleared.pole.unique()\n",
    "unique_poles_series = pd.Series(index=unique_poles,dtype=bool, name='poles')\n",
    "\n",
    "payment_df = pd.merge(payment_raw, unique_poles_series,left_on='pole_id',right_index=True)\n",
    "\n",
    "unique_poles = payment_df.pole_id.unique()\n",
    "unique_poles_series = pd.Series(index=unique_poles,dtype=bool, name='poles')\n",
    "\n",
    "valid_cleared = pd.merge(valid_cleared, unique_poles_series, left_on='pole', right_index=True)"
   ]
  },
  {
   "cell_type": "code",
   "execution_count": 25,
   "id": "2ee8566a",
   "metadata": {},
   "outputs": [],
   "source": [
    "# payment_time_before = payment_df['date_trans_start'] - timedelta(days=30)\n",
    "# payment_time_after = payment_df['date_trans_start'] + timedelta(days=30)\n",
    "# payment_2020 = payment_time_before.apply(lambda x: x.year < 2021)\n",
    "# payment_2020 = payment_df[payment_2020].index\n",
    "# payment_2022 = payment_time_after.apply(lambda x: x.year > 2021)\n",
    "# payment_2022 = payment_df[payment_2022].index\n",
    "\n",
    "# payment_df.drop(payment_2020,inplace=True)\n",
    "# payment_df.drop(payment_2022, inplace=True)"
   ]
  },
  {
   "cell_type": "code",
   "execution_count": 26,
   "id": "86b5d4b7",
   "metadata": {},
   "outputs": [],
   "source": [
    "cleared_date_left = valid_cleared.date_closed - valid_cleared.case_age_days.apply(lambda x: timedelta(days=x))\n",
    "\n",
    "date_2020 = cleared_date_left.apply(lambda x: x.year < 2021)\n",
    "date_2020 = valid_cleared[date_2020].index\n",
    "valid_cleared.drop(date_2020,inplace=True)\n",
    "\n",
    "cleared_date_right = valid_cleared.date_closed + valid_cleared.case_age_days.apply(lambda x: timedelta(days=x))\n",
    "date_2022 = cleared_date_right.apply(lambda x: x.year > 2021)\n",
    "date_2022 = valid_cleared[date_2022].index\n",
    "valid_cleared.drop(date_2022, inplace=True)\n"
   ]
  },
  {
   "cell_type": "code",
   "execution_count": 27,
   "id": "294b7551",
   "metadata": {},
   "outputs": [
    {
     "data": {
      "text/plain": [
       "29       2021-10-24\n",
       "30       2021-01-24\n",
       "31       2021-05-24\n",
       "32       2021-07-07\n",
       "33       2021-06-12\n",
       "            ...    \n",
       "334603   2020-12-07\n",
       "334604   2021-01-14\n",
       "334605   2021-09-22\n",
       "334606   2021-02-09\n",
       "334607   2021-07-09\n",
       "Length: 226232, dtype: datetime64[ns]"
      ]
     },
     "execution_count": 27,
     "metadata": {},
     "output_type": "execute_result"
    }
   ],
   "source": [
    "cleared_date_left"
   ]
  },
  {
   "cell_type": "code",
   "execution_count": 28,
   "id": "9f938b5f",
   "metadata": {},
   "outputs": [
    {
     "data": {
      "text/html": [
       "<div>\n",
       "<style scoped>\n",
       "    .dataframe tbody tr th:only-of-type {\n",
       "        vertical-align: middle;\n",
       "    }\n",
       "\n",
       "    .dataframe tbody tr th {\n",
       "        vertical-align: top;\n",
       "    }\n",
       "\n",
       "    .dataframe thead th {\n",
       "        text-align: right;\n",
       "    }\n",
       "</style>\n",
       "<table border=\"1\" class=\"dataframe\">\n",
       "  <thead>\n",
       "    <tr style=\"text-align: right;\">\n",
       "      <th></th>\n",
       "      <th>pole_id</th>\n",
       "      <th>meter_type</th>\n",
       "      <th>date_trans_start</th>\n",
       "      <th>date_meter_expire</th>\n",
       "      <th>trans_amt</th>\n",
       "      <th>pay_method</th>\n",
       "      <th>time</th>\n",
       "      <th>poles</th>\n",
       "    </tr>\n",
       "  </thead>\n",
       "  <tbody>\n",
       "    <tr>\n",
       "      <th>3</th>\n",
       "      <td>WF-300N</td>\n",
       "      <td>SS</td>\n",
       "      <td>2021-01-01 06:09:51</td>\n",
       "      <td>2021-01-01 10:00:19</td>\n",
       "      <td>250</td>\n",
       "      <td>CREDIT CARD</td>\n",
       "      <td>0 days 03:50:28</td>\n",
       "      <td>True</td>\n",
       "    </tr>\n",
       "    <tr>\n",
       "      <th>3122</th>\n",
       "      <td>WF-300N</td>\n",
       "      <td>SS</td>\n",
       "      <td>2021-01-02 06:05:21</td>\n",
       "      <td>2021-01-02 10:00:10</td>\n",
       "      <td>150</td>\n",
       "      <td>CREDIT CARD</td>\n",
       "      <td>0 days 03:54:49</td>\n",
       "      <td>True</td>\n",
       "    </tr>\n",
       "    <tr>\n",
       "      <th>3123</th>\n",
       "      <td>WF-300N</td>\n",
       "      <td>SS</td>\n",
       "      <td>2021-01-02 06:06:01</td>\n",
       "      <td>2021-01-02 10:00:04</td>\n",
       "      <td>150</td>\n",
       "      <td>CREDIT CARD</td>\n",
       "      <td>0 days 03:54:03</td>\n",
       "      <td>True</td>\n",
       "    </tr>\n",
       "    <tr>\n",
       "      <th>3876</th>\n",
       "      <td>WF-300N</td>\n",
       "      <td>SS</td>\n",
       "      <td>2021-01-02 09:04:37</td>\n",
       "      <td>2021-01-02 14:04:38</td>\n",
       "      <td>375</td>\n",
       "      <td>CREDIT CARD</td>\n",
       "      <td>0 days 05:00:01</td>\n",
       "      <td>True</td>\n",
       "    </tr>\n",
       "    <tr>\n",
       "      <th>6232</th>\n",
       "      <td>WF-300N</td>\n",
       "      <td>SS</td>\n",
       "      <td>2021-01-02 11:46:04</td>\n",
       "      <td>2021-01-02 18:00:15</td>\n",
       "      <td>475</td>\n",
       "      <td>CREDIT CARD</td>\n",
       "      <td>0 days 06:14:11</td>\n",
       "      <td>True</td>\n",
       "    </tr>\n",
       "    <tr>\n",
       "      <th>...</th>\n",
       "      <td>...</td>\n",
       "      <td>...</td>\n",
       "      <td>...</td>\n",
       "      <td>...</td>\n",
       "      <td>...</td>\n",
       "      <td>...</td>\n",
       "      <td>...</td>\n",
       "      <td>...</td>\n",
       "    </tr>\n",
       "    <tr>\n",
       "      <th>5308724</th>\n",
       "      <td>5-3700W</td>\n",
       "      <td>SS</td>\n",
       "      <td>2021-12-30 16:52:36</td>\n",
       "      <td>2021-12-30 18:52:36</td>\n",
       "      <td>250</td>\n",
       "      <td>CREDIT CARD</td>\n",
       "      <td>0 days 02:00:00</td>\n",
       "      <td>True</td>\n",
       "    </tr>\n",
       "    <tr>\n",
       "      <th>5309548</th>\n",
       "      <td>5-3700W</td>\n",
       "      <td>SS</td>\n",
       "      <td>2021-12-30 17:51:07</td>\n",
       "      <td>2021-12-30 19:27:07</td>\n",
       "      <td>200</td>\n",
       "      <td>CREDIT CARD</td>\n",
       "      <td>0 days 01:36:00</td>\n",
       "      <td>True</td>\n",
       "    </tr>\n",
       "    <tr>\n",
       "      <th>5309725</th>\n",
       "      <td>5-3700W</td>\n",
       "      <td>SS</td>\n",
       "      <td>2021-12-30 18:21:40</td>\n",
       "      <td>2021-12-30 20:00:00</td>\n",
       "      <td>225</td>\n",
       "      <td>CREDIT CARD</td>\n",
       "      <td>0 days 01:38:20</td>\n",
       "      <td>True</td>\n",
       "    </tr>\n",
       "    <tr>\n",
       "      <th>5309931</th>\n",
       "      <td>5-3700W</td>\n",
       "      <td>SS</td>\n",
       "      <td>2021-12-30 19:33:01</td>\n",
       "      <td>2021-12-30 20:00:00</td>\n",
       "      <td>125</td>\n",
       "      <td>CREDIT CARD</td>\n",
       "      <td>0 days 00:26:59</td>\n",
       "      <td>True</td>\n",
       "    </tr>\n",
       "    <tr>\n",
       "      <th>5309934</th>\n",
       "      <td>5-3700W</td>\n",
       "      <td>SS</td>\n",
       "      <td>2021-12-30 19:34:03</td>\n",
       "      <td>2021-12-30 20:00:00</td>\n",
       "      <td>125</td>\n",
       "      <td>CREDIT CARD</td>\n",
       "      <td>0 days 00:25:57</td>\n",
       "      <td>True</td>\n",
       "    </tr>\n",
       "  </tbody>\n",
       "</table>\n",
       "<p>5218228 rows × 8 columns</p>\n",
       "</div>"
      ],
      "text/plain": [
       "         pole_id meter_type    date_trans_start   date_meter_expire  \\\n",
       "3        WF-300N         SS 2021-01-01 06:09:51 2021-01-01 10:00:19   \n",
       "3122     WF-300N         SS 2021-01-02 06:05:21 2021-01-02 10:00:10   \n",
       "3123     WF-300N         SS 2021-01-02 06:06:01 2021-01-02 10:00:04   \n",
       "3876     WF-300N         SS 2021-01-02 09:04:37 2021-01-02 14:04:38   \n",
       "6232     WF-300N         SS 2021-01-02 11:46:04 2021-01-02 18:00:15   \n",
       "...          ...        ...                 ...                 ...   \n",
       "5308724  5-3700W         SS 2021-12-30 16:52:36 2021-12-30 18:52:36   \n",
       "5309548  5-3700W         SS 2021-12-30 17:51:07 2021-12-30 19:27:07   \n",
       "5309725  5-3700W         SS 2021-12-30 18:21:40 2021-12-30 20:00:00   \n",
       "5309931  5-3700W         SS 2021-12-30 19:33:01 2021-12-30 20:00:00   \n",
       "5309934  5-3700W         SS 2021-12-30 19:34:03 2021-12-30 20:00:00   \n",
       "\n",
       "         trans_amt   pay_method            time  poles  \n",
       "3              250  CREDIT CARD 0 days 03:50:28   True  \n",
       "3122           150  CREDIT CARD 0 days 03:54:49   True  \n",
       "3123           150  CREDIT CARD 0 days 03:54:03   True  \n",
       "3876           375  CREDIT CARD 0 days 05:00:01   True  \n",
       "6232           475  CREDIT CARD 0 days 06:14:11   True  \n",
       "...            ...          ...             ...    ...  \n",
       "5308724        250  CREDIT CARD 0 days 02:00:00   True  \n",
       "5309548        200  CREDIT CARD 0 days 01:36:00   True  \n",
       "5309725        225  CREDIT CARD 0 days 01:38:20   True  \n",
       "5309931        125  CREDIT CARD 0 days 00:26:59   True  \n",
       "5309934        125  CREDIT CARD 0 days 00:25:57   True  \n",
       "\n",
       "[5218228 rows x 8 columns]"
      ]
     },
     "execution_count": 28,
     "metadata": {},
     "output_type": "execute_result"
    }
   ],
   "source": [
    "payment_df"
   ]
  },
  {
   "cell_type": "code",
   "execution_count": 29,
   "id": "7077decd",
   "metadata": {},
   "outputs": [
    {
     "data": {
      "text/plain": [
       "pole_id\n",
       "1-1004     ([2021-01-01 17:00:31, 2021-01-02 07:05:46, 20...\n",
       "1-1006     ([2021-01-04 07:53:24, 2021-01-04 10:12:12, 20...\n",
       "1-1008     ([2021-01-01 12:02:09, 2021-01-01 12:02:31, 20...\n",
       "1-1020     ([2021-10-06 13:34:40, 2021-10-06 13:51:50], [...\n",
       "1-1310     ([2021-01-04 10:26:30, 2021-01-04 15:48:56, 20...\n",
       "                                 ...                        \n",
       "WUV-115    ([2021-01-02 12:19:42, 2021-01-04 14:42:45, 20...\n",
       "WUV-116    ([2021-01-27 10:32:49, 2021-01-28 12:04:54, 20...\n",
       "WUV-117    ([2021-01-27 12:35:44, 2021-01-29 13:29:17, 20...\n",
       "WUV-118    ([2021-01-02 12:13:21, 2021-01-02 12:13:31, 20...\n",
       "WUV-119    ([2021-01-04 14:58:59, 2021-01-30 11:49:00, 20...\n",
       "Length: 4225, dtype: object"
      ]
     },
     "execution_count": 29,
     "metadata": {},
     "output_type": "execute_result"
    }
   ],
   "source": [
    "\n",
    "#payment_df.groupby('pole_id').apply(lambda x: x[['date_trans_start', 'trans_amt', 'time']])\n",
    "pole_tuples = payment_df.groupby('pole_id').apply(lambda x: (x.date_trans_start, x.trans_amt))\n",
    "pole_tuples"
   ]
  },
  {
   "cell_type": "code",
   "execution_count": null,
   "id": "10948117",
   "metadata": {},
   "outputs": [],
   "source": []
  },
  {
   "cell_type": "code",
   "execution_count": 30,
   "id": "dfc3ea65",
   "metadata": {},
   "outputs": [],
   "source": [
    "def get_left_date(pmt, left_date, date):\n",
    "    return left_date < pmt < date\n",
    "def get_right_date(pmt, date, right_date):\n",
    "    return date < pmt < right_date\n",
    "\n",
    "def distance(x, y):\n",
    "    return np.sqrt((x**2) + (y**2))\n",
    "def categorize_differences(diff, low_end, high_end):\n",
    "    if diff > high_end:\n",
    "        return \"High Priority\"\n",
    "    elif (diff > low_end) and (diff < high_end):\n",
    "        return \"Low Priority\"\n",
    "    else:\n",
    "        return \"No Priority\""
   ]
  },
  {
   "cell_type": "code",
   "execution_count": 31,
   "id": "afb71271",
   "metadata": {},
   "outputs": [],
   "source": [
    "payments_before_incident = []\n",
    "payments_after_incident =  []\n",
    "skipped = 0\n",
    "\n",
    "\n",
    "for incident in valid_cleared.index:\n",
    "    pole = valid_cleared.pole[incident]\n",
    "    try:\n",
    "        pole_payments = pole_tuples[pole]\n",
    "    except KeyError:\n",
    "        payments_before_incident.append(np.nan)\n",
    "        payments_after_incident.append(np.nan)\n",
    "        skipped += 1\n",
    "        continue\n",
    "    pole_payments = pd.DataFrame({'date_trans_start':pole_payments[0],\n",
    "                                  'trans_amt': pole_payments[1]})\n",
    "    pole_payments_date = pole_payments.date_trans_start\n",
    "    incident_date = valid_cleared.date_closed[incident]\n",
    "    pay_before_date = pole_payments_date.apply(get_left_date, args=(cleared_date_left[incident], incident_date))\n",
    "    pay_before_total = pole_payments[pay_before_date].trans_amt.sum()\n",
    "    pay_after_date = pole_payments_date.apply(get_right_date, args=(incident_date, cleared_date_right[incident]))\n",
    "    pay_after_total = pole_payments[pay_after_date].trans_amt.sum()\n",
    "    \n",
    "    payments_before_incident.append(pay_before_total)\n",
    "    payments_after_incident.append(pay_after_total)\n",
    "    \n",
    "valid_cleared['payment_before'] = payments_before_incident\n",
    "valid_cleared['payment_after'] = payments_after_incident\n",
    "valid_cleared['payment_diff'] = valid_cleared.payment_after - valid_cleared.payment_before\n",
    "\n",
    "valid_cleared.dropna(subset='payment_diff', inplace=True)"
   ]
  },
  {
   "cell_type": "code",
   "execution_count": 32,
   "id": "5bb60b92",
   "metadata": {
    "scrolled": false
   },
   "outputs": [
    {
     "data": {
      "text/plain": [
       "service_name\n",
       "Right-of-Way Code Enforcement              -573.685921\n",
       "Waste on Private Property                  -249.226442\n",
       "Stormwater                                 -150.863579\n",
       "COVID-19                                    -19.345178\n",
       "Shared Mobility Device                        0.000000\n",
       "Stormwater Code Enforcement                  47.269136\n",
       "Weed Cleanup                                 60.371681\n",
       "Street Flooded                               69.745583\n",
       "Traffic Signal Timing                        71.154028\n",
       "Dead Animal                                  88.461369\n",
       "Other                                        89.021543\n",
       "Development Services - Code Enforcement     118.087685\n",
       "Traffic Signal Issue                        171.277940\n",
       "Missed Collection                           207.633320\n",
       "Illegal Dumping                             208.058094\n",
       "Pothole                                     214.671504\n",
       "Street Sweeping                             218.457711\n",
       "Pavement Maintenance                        270.187835\n",
       "Encampment                                  288.807624\n",
       "Tree Maintenance                            327.248160\n",
       "Graffiti                                    373.945491\n",
       "ROW Maintenance                             400.135092\n",
       "Parking                                     401.670196\n",
       "Oversized Vehicle                           465.823529\n",
       "Traffic Engineering                         583.473953\n",
       "Sidewalk Repair Issue                       595.778915\n",
       "Street Light Maintenance                    599.514026\n",
       "Environmental Services Code Compliance      773.192943\n",
       "Homeless Outreach                           994.000000\n",
       "Graffiti - Code Enforcement                1081.896557\n",
       "Traffic Sign Maintenance                   1158.545185\n",
       "Trash/Recycling Collection                 1330.961377\n",
       "Name: payment_diff, dtype: float64"
      ]
     },
     "execution_count": 32,
     "metadata": {},
     "output_type": "execute_result"
    }
   ],
   "source": [
    "service_name_avgs = valid_cleared.groupby('service_name').apply(lambda x: x.payment_diff.mean()).sort_values()\n",
    "service_name_avgs.name = 'payment_diff'\n",
    "\n",
    "service_name_avgs"
   ]
  },
  {
   "cell_type": "code",
   "execution_count": 33,
   "id": "69f9efb4",
   "metadata": {},
   "outputs": [
    {
     "data": {
      "text/plain": [
       "243.0099586540174"
      ]
     },
     "execution_count": 33,
     "metadata": {},
     "output_type": "execute_result"
    }
   ],
   "source": [
    "valid_cleared.payment_diff.mean()"
   ]
  },
  {
   "cell_type": "code",
   "execution_count": 34,
   "id": "8c8acf7e",
   "metadata": {},
   "outputs": [
    {
     "data": {
      "text/plain": [
       "service_name\n",
       "Homeless Outreach                             12\n",
       "Oversized Vehicle                             34\n",
       "Weed Cleanup                                 113\n",
       "Right-of-Way Code Enforcement                277\n",
       "Dead Animal                                  453\n",
       "Pavement Maintenance                         559\n",
       "Street Flooded                               566\n",
       "Waste on Private Property                    711\n",
       "Stormwater                                   799\n",
       "Stormwater Code Enforcement                  810\n",
       "Traffic Engineering                          979\n",
       "COVID-19                                     985\n",
       "Street Sweeping                             1005\n",
       "Development Services - Code Enforcement     1015\n",
       "Trash/Recycling Collection                  1191\n",
       "Traffic Signal Timing                       1266\n",
       "ROW Maintenance                             1895\n",
       "Traffic Sign Maintenance                    2025\n",
       "Environmental Services Code Compliance      2239\n",
       "Sidewalk Repair Issue                       2248\n",
       "Tree Maintenance                            2446\n",
       "Missed Collection                           2449\n",
       "Pothole                                     3032\n",
       "Street Light Maintenance                    3636\n",
       "Traffic Signal Issue                        6505\n",
       "Parking                                     6516\n",
       "Graffiti - Code Enforcement                 7115\n",
       "Illegal Dumping                             7333\n",
       "Other                                       7334\n",
       "Graffiti                                   30325\n",
       "Encampment                                 44361\n",
       "Shared Mobility Device                     67525\n",
       "Name: counts, dtype: int64"
      ]
     },
     "execution_count": 34,
     "metadata": {},
     "output_type": "execute_result"
    }
   ],
   "source": [
    "service_name_cnts = valid_cleared.groupby('service_name').apply(lambda x: x.payment_diff.count()).sort_values()\n",
    "service_name_cnts.name = \"counts\"\n",
    "\n",
    "service_name_cnts"
   ]
  },
  {
   "cell_type": "code",
   "execution_count": 35,
   "id": "69ffe9f5",
   "metadata": {},
   "outputs": [
    {
     "data": {
      "text/html": [
       "<div>\n",
       "<style scoped>\n",
       "    .dataframe tbody tr th:only-of-type {\n",
       "        vertical-align: middle;\n",
       "    }\n",
       "\n",
       "    .dataframe tbody tr th {\n",
       "        vertical-align: top;\n",
       "    }\n",
       "\n",
       "    .dataframe thead th {\n",
       "        text-align: right;\n",
       "    }\n",
       "</style>\n",
       "<table border=\"1\" class=\"dataframe\">\n",
       "  <thead>\n",
       "    <tr style=\"text-align: right;\">\n",
       "      <th></th>\n",
       "      <th>service_name</th>\n",
       "      <th>payment_diff</th>\n",
       "      <th>counts</th>\n",
       "    </tr>\n",
       "  </thead>\n",
       "  <tbody>\n",
       "    <tr>\n",
       "      <th>0</th>\n",
       "      <td>Right-of-Way Code Enforcement</td>\n",
       "      <td>-573.685921</td>\n",
       "      <td>277</td>\n",
       "    </tr>\n",
       "    <tr>\n",
       "      <th>1</th>\n",
       "      <td>Waste on Private Property</td>\n",
       "      <td>-249.226442</td>\n",
       "      <td>711</td>\n",
       "    </tr>\n",
       "    <tr>\n",
       "      <th>2</th>\n",
       "      <td>Stormwater</td>\n",
       "      <td>-150.863579</td>\n",
       "      <td>799</td>\n",
       "    </tr>\n",
       "    <tr>\n",
       "      <th>3</th>\n",
       "      <td>COVID-19</td>\n",
       "      <td>-19.345178</td>\n",
       "      <td>985</td>\n",
       "    </tr>\n",
       "    <tr>\n",
       "      <th>4</th>\n",
       "      <td>Shared Mobility Device</td>\n",
       "      <td>0.000000</td>\n",
       "      <td>67525</td>\n",
       "    </tr>\n",
       "    <tr>\n",
       "      <th>5</th>\n",
       "      <td>Stormwater Code Enforcement</td>\n",
       "      <td>47.269136</td>\n",
       "      <td>810</td>\n",
       "    </tr>\n",
       "    <tr>\n",
       "      <th>6</th>\n",
       "      <td>Weed Cleanup</td>\n",
       "      <td>60.371681</td>\n",
       "      <td>113</td>\n",
       "    </tr>\n",
       "    <tr>\n",
       "      <th>7</th>\n",
       "      <td>Street Flooded</td>\n",
       "      <td>69.745583</td>\n",
       "      <td>566</td>\n",
       "    </tr>\n",
       "    <tr>\n",
       "      <th>8</th>\n",
       "      <td>Traffic Signal Timing</td>\n",
       "      <td>71.154028</td>\n",
       "      <td>1266</td>\n",
       "    </tr>\n",
       "    <tr>\n",
       "      <th>9</th>\n",
       "      <td>Dead Animal</td>\n",
       "      <td>88.461369</td>\n",
       "      <td>453</td>\n",
       "    </tr>\n",
       "    <tr>\n",
       "      <th>10</th>\n",
       "      <td>Other</td>\n",
       "      <td>89.021543</td>\n",
       "      <td>7334</td>\n",
       "    </tr>\n",
       "    <tr>\n",
       "      <th>11</th>\n",
       "      <td>Development Services - Code Enforcement</td>\n",
       "      <td>118.087685</td>\n",
       "      <td>1015</td>\n",
       "    </tr>\n",
       "    <tr>\n",
       "      <th>12</th>\n",
       "      <td>Traffic Signal Issue</td>\n",
       "      <td>171.277940</td>\n",
       "      <td>6505</td>\n",
       "    </tr>\n",
       "    <tr>\n",
       "      <th>13</th>\n",
       "      <td>Missed Collection</td>\n",
       "      <td>207.633320</td>\n",
       "      <td>2449</td>\n",
       "    </tr>\n",
       "    <tr>\n",
       "      <th>14</th>\n",
       "      <td>Illegal Dumping</td>\n",
       "      <td>208.058094</td>\n",
       "      <td>7333</td>\n",
       "    </tr>\n",
       "    <tr>\n",
       "      <th>15</th>\n",
       "      <td>Pothole</td>\n",
       "      <td>214.671504</td>\n",
       "      <td>3032</td>\n",
       "    </tr>\n",
       "    <tr>\n",
       "      <th>16</th>\n",
       "      <td>Street Sweeping</td>\n",
       "      <td>218.457711</td>\n",
       "      <td>1005</td>\n",
       "    </tr>\n",
       "    <tr>\n",
       "      <th>17</th>\n",
       "      <td>Pavement Maintenance</td>\n",
       "      <td>270.187835</td>\n",
       "      <td>559</td>\n",
       "    </tr>\n",
       "    <tr>\n",
       "      <th>18</th>\n",
       "      <td>Encampment</td>\n",
       "      <td>288.807624</td>\n",
       "      <td>44361</td>\n",
       "    </tr>\n",
       "    <tr>\n",
       "      <th>19</th>\n",
       "      <td>Tree Maintenance</td>\n",
       "      <td>327.248160</td>\n",
       "      <td>2446</td>\n",
       "    </tr>\n",
       "    <tr>\n",
       "      <th>20</th>\n",
       "      <td>Graffiti</td>\n",
       "      <td>373.945491</td>\n",
       "      <td>30325</td>\n",
       "    </tr>\n",
       "    <tr>\n",
       "      <th>21</th>\n",
       "      <td>ROW Maintenance</td>\n",
       "      <td>400.135092</td>\n",
       "      <td>1895</td>\n",
       "    </tr>\n",
       "    <tr>\n",
       "      <th>22</th>\n",
       "      <td>Parking</td>\n",
       "      <td>401.670196</td>\n",
       "      <td>6516</td>\n",
       "    </tr>\n",
       "    <tr>\n",
       "      <th>23</th>\n",
       "      <td>Oversized Vehicle</td>\n",
       "      <td>465.823529</td>\n",
       "      <td>34</td>\n",
       "    </tr>\n",
       "    <tr>\n",
       "      <th>24</th>\n",
       "      <td>Traffic Engineering</td>\n",
       "      <td>583.473953</td>\n",
       "      <td>979</td>\n",
       "    </tr>\n",
       "    <tr>\n",
       "      <th>25</th>\n",
       "      <td>Sidewalk Repair Issue</td>\n",
       "      <td>595.778915</td>\n",
       "      <td>2248</td>\n",
       "    </tr>\n",
       "    <tr>\n",
       "      <th>26</th>\n",
       "      <td>Street Light Maintenance</td>\n",
       "      <td>599.514026</td>\n",
       "      <td>3636</td>\n",
       "    </tr>\n",
       "    <tr>\n",
       "      <th>27</th>\n",
       "      <td>Environmental Services Code Compliance</td>\n",
       "      <td>773.192943</td>\n",
       "      <td>2239</td>\n",
       "    </tr>\n",
       "    <tr>\n",
       "      <th>28</th>\n",
       "      <td>Homeless Outreach</td>\n",
       "      <td>994.000000</td>\n",
       "      <td>12</td>\n",
       "    </tr>\n",
       "    <tr>\n",
       "      <th>29</th>\n",
       "      <td>Graffiti - Code Enforcement</td>\n",
       "      <td>1081.896557</td>\n",
       "      <td>7115</td>\n",
       "    </tr>\n",
       "    <tr>\n",
       "      <th>30</th>\n",
       "      <td>Traffic Sign Maintenance</td>\n",
       "      <td>1158.545185</td>\n",
       "      <td>2025</td>\n",
       "    </tr>\n",
       "    <tr>\n",
       "      <th>31</th>\n",
       "      <td>Trash/Recycling Collection</td>\n",
       "      <td>1330.961377</td>\n",
       "      <td>1191</td>\n",
       "    </tr>\n",
       "  </tbody>\n",
       "</table>\n",
       "</div>"
      ],
      "text/plain": [
       "                               service_name  payment_diff  counts\n",
       "0             Right-of-Way Code Enforcement   -573.685921     277\n",
       "1                 Waste on Private Property   -249.226442     711\n",
       "2                                Stormwater   -150.863579     799\n",
       "3                                  COVID-19    -19.345178     985\n",
       "4                    Shared Mobility Device      0.000000   67525\n",
       "5               Stormwater Code Enforcement     47.269136     810\n",
       "6                              Weed Cleanup     60.371681     113\n",
       "7                            Street Flooded     69.745583     566\n",
       "8                     Traffic Signal Timing     71.154028    1266\n",
       "9                               Dead Animal     88.461369     453\n",
       "10                                    Other     89.021543    7334\n",
       "11  Development Services - Code Enforcement    118.087685    1015\n",
       "12                     Traffic Signal Issue    171.277940    6505\n",
       "13                        Missed Collection    207.633320    2449\n",
       "14                          Illegal Dumping    208.058094    7333\n",
       "15                                  Pothole    214.671504    3032\n",
       "16                          Street Sweeping    218.457711    1005\n",
       "17                     Pavement Maintenance    270.187835     559\n",
       "18                               Encampment    288.807624   44361\n",
       "19                         Tree Maintenance    327.248160    2446\n",
       "20                                 Graffiti    373.945491   30325\n",
       "21                          ROW Maintenance    400.135092    1895\n",
       "22                                  Parking    401.670196    6516\n",
       "23                        Oversized Vehicle    465.823529      34\n",
       "24                      Traffic Engineering    583.473953     979\n",
       "25                    Sidewalk Repair Issue    595.778915    2248\n",
       "26                 Street Light Maintenance    599.514026    3636\n",
       "27   Environmental Services Code Compliance    773.192943    2239\n",
       "28                        Homeless Outreach    994.000000      12\n",
       "29              Graffiti - Code Enforcement   1081.896557    7115\n",
       "30                 Traffic Sign Maintenance   1158.545185    2025\n",
       "31               Trash/Recycling Collection   1330.961377    1191"
      ]
     },
     "execution_count": 35,
     "metadata": {},
     "output_type": "execute_result"
    }
   ],
   "source": [
    "service_name_df = pd.merge(service_name_avgs, service_name_cnts, left_index=True, right_index=True).reset_index()\n",
    "service_name_df"
   ]
  },
  {
   "cell_type": "code",
   "execution_count": 36,
   "id": "bfadb58b",
   "metadata": {},
   "outputs": [
    {
     "data": {
      "text/plain": [
       "333362    Roosevelt Middle School Joint Use Park: Nov 16...\n",
       "110369    Parks and Rec: the iceplant and bushes and sed...\n",
       "304778                              Fire hydrant cap is off\n",
       "140318    Bicycle chop shop on the canyon, behind the ba...\n",
       "343808                                            Vandalism\n",
       "                                ...                        \n",
       "82769     Neighbors shed attached to the back fence and ...\n",
       "232547    This is not a dog park it?s part of the elemen...\n",
       "11349                 Foliage overhanging sidewalk at 4 ft.\n",
       "227998    Vehicles parked along red curbs and in front o...\n",
       "156644                 Car break-in and attempted car theft\n",
       "Name: public_description, Length: 7217, dtype: object"
      ]
     },
     "execution_count": 36,
     "metadata": {},
     "output_type": "execute_result"
    }
   ],
   "source": [
    "cleared_df[cleared_df['service_name'] == 'Other'].public_description"
   ]
  },
  {
   "cell_type": "code",
   "execution_count": 37,
   "id": "7d3cd007",
   "metadata": {},
   "outputs": [],
   "source": [
    "bootstrap_means = []\n",
    "for i in np.arange(10000):\n",
    "    payment_bootstrap_before = valid_cleared.payment_before.dropna().sample(300000, replace=True)\n",
    "    payment_bootstrap_after = valid_cleared.payment_after.dropna().sample(300000, replace=True)\n",
    "    payment_bootstrap_diff = payment_bootstrap_after - payment_bootstrap_before\n",
    "\n",
    "    bootstrap_means.append(payment_bootstrap_diff.mean())"
   ]
  },
  {
   "cell_type": "code",
   "execution_count": 38,
   "id": "51d7a1b2",
   "metadata": {},
   "outputs": [
    {
     "data": {
      "text/plain": [
       "[<matplotlib.lines.Line2D at 0x204532ee050>]"
      ]
     },
     "execution_count": 38,
     "metadata": {},
     "output_type": "execute_result"
    },
    {
     "data": {
      "image/png": "[encoded data removed]",
      "text/plain": [
       "<Figure size 432x288 with 1 Axes>"
      ]
     },
     "metadata": {
      "needs_background": "light"
     },
     "output_type": "display_data"
    }
   ],
   "source": [
    "bootstrap_plt = plt.hist(bootstrap_means)\n",
    "\n",
    "plt.plot([np.percentile(bootstrap_means, 99)] * 5, np.arange(0,4001,1000), color='red')"
   ]
  },
  {
   "cell_type": "code",
   "execution_count": 39,
   "id": "48998538",
   "metadata": {},
   "outputs": [
    {
     "data": {
      "text/plain": [
       "service_name\n",
       "Shared Mobility Device                       0.000000\n",
       "Other                                       89.021543\n",
       "Traffic Signal Issue                       171.277940\n",
       "Missed Collection                          207.633320\n",
       "Illegal Dumping                            208.058094\n",
       "Encampment                                 288.807624\n",
       "Tree Maintenance                           327.248160\n",
       "Graffiti                                   373.945491\n",
       "Parking                                    401.670196\n",
       "Sidewalk Repair Issue                      595.778915\n",
       "Street Light Maintenance                   599.514026\n",
       "Environmental Services Code Compliance     773.192943\n",
       "Graffiti - Code Enforcement               1081.896557\n",
       "Traffic Sign Maintenance                  1158.545185\n",
       "Name: payment_diff, dtype: float64"
      ]
     },
     "execution_count": 39,
     "metadata": {},
     "output_type": "execute_result"
    }
   ],
   "source": [
    "service_names_sig_max = service_name_avgs[service_name_cnts > 2000] > np.percentile(bootstrap_means, 99)\n",
    "service_names_sig_min =  service_name_avgs[service_name_cnts > 2000] < np.percentile(bootstrap_means, 1)\n",
    "service_names_sig = service_names_sig_max | service_names_sig_min\n",
    "service_names_sig = service_names_sig[service_names_sig == True].index\n",
    "service_name_avgs[service_names_sig]"
   ]
  },
  {
   "cell_type": "code",
   "execution_count": 40,
   "id": "e06ea5c1",
   "metadata": {},
   "outputs": [
    {
     "data": {
      "text/html": [
       "<div>\n",
       "<style scoped>\n",
       "    .dataframe tbody tr th:only-of-type {\n",
       "        vertical-align: middle;\n",
       "    }\n",
       "\n",
       "    .dataframe tbody tr th {\n",
       "        vertical-align: top;\n",
       "    }\n",
       "\n",
       "    .dataframe thead th {\n",
       "        text-align: right;\n",
       "    }\n",
       "</style>\n",
       "<table border=\"1\" class=\"dataframe\">\n",
       "  <thead>\n",
       "    <tr style=\"text-align: right;\">\n",
       "      <th></th>\n",
       "      <th>service_request_id</th>\n",
       "      <th>date_requested</th>\n",
       "      <th>case_age_days</th>\n",
       "      <th>service_name</th>\n",
       "      <th>date_closed</th>\n",
       "      <th>zipcode</th>\n",
       "      <th>case_origin</th>\n",
       "      <th>geometry</th>\n",
       "      <th>pole</th>\n",
       "      <th>poles</th>\n",
       "      <th>payment_before</th>\n",
       "      <th>payment_after</th>\n",
       "      <th>payment_diff</th>\n",
       "      <th>payment_prio</th>\n",
       "    </tr>\n",
       "  </thead>\n",
       "  <tbody>\n",
       "    <tr>\n",
       "      <th>1</th>\n",
       "      <td>3217496</td>\n",
       "      <td>2021-01-24T16:46:00</td>\n",
       "      <td>8.0</td>\n",
       "      <td>Graffiti</td>\n",
       "      <td>2021-02-01</td>\n",
       "      <td>92101</td>\n",
       "      <td>Mobile</td>\n",
       "      <td>POINT (-13043937.428 3859900.013)</td>\n",
       "      <td>P-2912</td>\n",
       "      <td>True</td>\n",
       "      <td>0</td>\n",
       "      <td>0</td>\n",
       "      <td>0</td>\n",
       "      <td>No Priority</td>\n",
       "    </tr>\n",
       "    <tr>\n",
       "      <th>2</th>\n",
       "      <td>3367308</td>\n",
       "      <td>2021-05-24T12:25:00</td>\n",
       "      <td>2.0</td>\n",
       "      <td>Graffiti</td>\n",
       "      <td>2021-05-26</td>\n",
       "      <td>92101</td>\n",
       "      <td>Mobile</td>\n",
       "      <td>POINT (-13043901.023 3859903.855)</td>\n",
       "      <td>P-2912</td>\n",
       "      <td>True</td>\n",
       "      <td>0</td>\n",
       "      <td>0</td>\n",
       "      <td>0</td>\n",
       "      <td>No Priority</td>\n",
       "    </tr>\n",
       "    <tr>\n",
       "      <th>4</th>\n",
       "      <td>3391598</td>\n",
       "      <td>2021-06-12T19:20:00</td>\n",
       "      <td>3.0</td>\n",
       "      <td>Graffiti</td>\n",
       "      <td>2021-06-15</td>\n",
       "      <td>92101</td>\n",
       "      <td>Mobile</td>\n",
       "      <td>POINT (-13043913.654 3859915.362)</td>\n",
       "      <td>P-2912</td>\n",
       "      <td>True</td>\n",
       "      <td>0</td>\n",
       "      <td>125</td>\n",
       "      <td>125</td>\n",
       "      <td>Low Priority</td>\n",
       "    </tr>\n",
       "    <tr>\n",
       "      <th>6</th>\n",
       "      <td>3217496</td>\n",
       "      <td>2021-01-24T16:46:00</td>\n",
       "      <td>8.0</td>\n",
       "      <td>Graffiti</td>\n",
       "      <td>2021-02-01</td>\n",
       "      <td>92101</td>\n",
       "      <td>Mobile</td>\n",
       "      <td>POINT (-13043937.428 3859900.013)</td>\n",
       "      <td>P-2912</td>\n",
       "      <td>True</td>\n",
       "      <td>0</td>\n",
       "      <td>0</td>\n",
       "      <td>0</td>\n",
       "      <td>No Priority</td>\n",
       "    </tr>\n",
       "    <tr>\n",
       "      <th>7</th>\n",
       "      <td>3367308</td>\n",
       "      <td>2021-05-24T12:25:00</td>\n",
       "      <td>2.0</td>\n",
       "      <td>Graffiti</td>\n",
       "      <td>2021-05-26</td>\n",
       "      <td>92101</td>\n",
       "      <td>Mobile</td>\n",
       "      <td>POINT (-13043901.023 3859903.855)</td>\n",
       "      <td>P-2912</td>\n",
       "      <td>True</td>\n",
       "      <td>0</td>\n",
       "      <td>0</td>\n",
       "      <td>0</td>\n",
       "      <td>No Priority</td>\n",
       "    </tr>\n",
       "    <tr>\n",
       "      <th>...</th>\n",
       "      <td>...</td>\n",
       "      <td>...</td>\n",
       "      <td>...</td>\n",
       "      <td>...</td>\n",
       "      <td>...</td>\n",
       "      <td>...</td>\n",
       "      <td>...</td>\n",
       "      <td>...</td>\n",
       "      <td>...</td>\n",
       "      <td>...</td>\n",
       "      <td>...</td>\n",
       "      <td>...</td>\n",
       "      <td>...</td>\n",
       "      <td>...</td>\n",
       "    </tr>\n",
       "    <tr>\n",
       "      <th>192035</th>\n",
       "      <td>3493973</td>\n",
       "      <td>2021-09-03T07:33:00</td>\n",
       "      <td>0.0</td>\n",
       "      <td>Parking</td>\n",
       "      <td>2021-09-03</td>\n",
       "      <td>92116</td>\n",
       "      <td>Mobile</td>\n",
       "      <td>POINT (-13040620.243 3863161.009)</td>\n",
       "      <td>PB-4409</td>\n",
       "      <td>True</td>\n",
       "      <td>0</td>\n",
       "      <td>0</td>\n",
       "      <td>0</td>\n",
       "      <td>No Priority</td>\n",
       "    </tr>\n",
       "    <tr>\n",
       "      <th>192040</th>\n",
       "      <td>3404846</td>\n",
       "      <td>2021-06-23T08:51:00</td>\n",
       "      <td>1.0</td>\n",
       "      <td>Tree Maintenance</td>\n",
       "      <td>2021-06-24</td>\n",
       "      <td>92116</td>\n",
       "      <td>Mobile</td>\n",
       "      <td>POINT (-13040513.718 3863207.181)</td>\n",
       "      <td>ME-1806</td>\n",
       "      <td>True</td>\n",
       "      <td>355</td>\n",
       "      <td>185</td>\n",
       "      <td>-170</td>\n",
       "      <td>No Priority</td>\n",
       "    </tr>\n",
       "    <tr>\n",
       "      <th>192041</th>\n",
       "      <td>3483863</td>\n",
       "      <td>2021-08-25T20:24:00</td>\n",
       "      <td>1.0</td>\n",
       "      <td>Parking</td>\n",
       "      <td>2021-08-26</td>\n",
       "      <td>92116</td>\n",
       "      <td>Mobile</td>\n",
       "      <td>POINT (-13040530.216 3863225.233)</td>\n",
       "      <td>ME-1806</td>\n",
       "      <td>True</td>\n",
       "      <td>357</td>\n",
       "      <td>0</td>\n",
       "      <td>-357</td>\n",
       "      <td>No Priority</td>\n",
       "    </tr>\n",
       "    <tr>\n",
       "      <th>192044</th>\n",
       "      <td>3377944</td>\n",
       "      <td>2021-06-01T19:45:00</td>\n",
       "      <td>28.0</td>\n",
       "      <td>Graffiti</td>\n",
       "      <td>2021-06-29</td>\n",
       "      <td>92116</td>\n",
       "      <td>Mobile</td>\n",
       "      <td>POINT (-13040527.006 3863231.801)</td>\n",
       "      <td>ME-1806</td>\n",
       "      <td>True</td>\n",
       "      <td>5096</td>\n",
       "      <td>5963</td>\n",
       "      <td>867</td>\n",
       "      <td>Low Priority</td>\n",
       "    </tr>\n",
       "    <tr>\n",
       "      <th>192048</th>\n",
       "      <td>3345338</td>\n",
       "      <td>2021-05-06T16:53:00</td>\n",
       "      <td>0.0</td>\n",
       "      <td>Sidewalk Repair Issue</td>\n",
       "      <td>2021-05-06</td>\n",
       "      <td>92116</td>\n",
       "      <td>Web</td>\n",
       "      <td>POINT (-13040635.351 3863269.105)</td>\n",
       "      <td>PB-4428</td>\n",
       "      <td>True</td>\n",
       "      <td>0</td>\n",
       "      <td>0</td>\n",
       "      <td>0</td>\n",
       "      <td>No Priority</td>\n",
       "    </tr>\n",
       "  </tbody>\n",
       "</table>\n",
       "<p>115163 rows × 14 columns</p>\n",
       "</div>"
      ],
      "text/plain": [
       "        service_request_id       date_requested  case_age_days  \\\n",
       "1                  3217496  2021-01-24T16:46:00            8.0   \n",
       "2                  3367308  2021-05-24T12:25:00            2.0   \n",
       "4                  3391598  2021-06-12T19:20:00            3.0   \n",
       "6                  3217496  2021-01-24T16:46:00            8.0   \n",
       "7                  3367308  2021-05-24T12:25:00            2.0   \n",
       "...                    ...                  ...            ...   \n",
       "192035             3493973  2021-09-03T07:33:00            0.0   \n",
       "192040             3404846  2021-06-23T08:51:00            1.0   \n",
       "192041             3483863  2021-08-25T20:24:00            1.0   \n",
       "192044             3377944  2021-06-01T19:45:00           28.0   \n",
       "192048             3345338  2021-05-06T16:53:00            0.0   \n",
       "\n",
       "                 service_name date_closed zipcode case_origin  \\\n",
       "1                    Graffiti  2021-02-01   92101      Mobile   \n",
       "2                    Graffiti  2021-05-26   92101      Mobile   \n",
       "4                    Graffiti  2021-06-15   92101      Mobile   \n",
       "6                    Graffiti  2021-02-01   92101      Mobile   \n",
       "7                    Graffiti  2021-05-26   92101      Mobile   \n",
       "...                       ...         ...     ...         ...   \n",
       "192035                Parking  2021-09-03   92116      Mobile   \n",
       "192040       Tree Maintenance  2021-06-24   92116      Mobile   \n",
       "192041                Parking  2021-08-26   92116      Mobile   \n",
       "192044               Graffiti  2021-06-29   92116      Mobile   \n",
       "192048  Sidewalk Repair Issue  2021-05-06   92116         Web   \n",
       "\n",
       "                                 geometry     pole  poles  payment_before  \\\n",
       "1       POINT (-13043937.428 3859900.013)   P-2912   True               0   \n",
       "2       POINT (-13043901.023 3859903.855)   P-2912   True               0   \n",
       "4       POINT (-13043913.654 3859915.362)   P-2912   True               0   \n",
       "6       POINT (-13043937.428 3859900.013)   P-2912   True               0   \n",
       "7       POINT (-13043901.023 3859903.855)   P-2912   True               0   \n",
       "...                                   ...      ...    ...             ...   \n",
       "192035  POINT (-13040620.243 3863161.009)  PB-4409   True               0   \n",
       "192040  POINT (-13040513.718 3863207.181)  ME-1806   True             355   \n",
       "192041  POINT (-13040530.216 3863225.233)  ME-1806   True             357   \n",
       "192044  POINT (-13040527.006 3863231.801)  ME-1806   True            5096   \n",
       "192048  POINT (-13040635.351 3863269.105)  PB-4428   True               0   \n",
       "\n",
       "        payment_after  payment_diff  payment_prio  \n",
       "1                   0             0   No Priority  \n",
       "2                   0             0   No Priority  \n",
       "4                 125           125  Low Priority  \n",
       "6                   0             0   No Priority  \n",
       "7                   0             0   No Priority  \n",
       "...               ...           ...           ...  \n",
       "192035              0             0   No Priority  \n",
       "192040            185          -170   No Priority  \n",
       "192041              0          -357   No Priority  \n",
       "192044           5963           867  Low Priority  \n",
       "192048              0             0   No Priority  \n",
       "\n",
       "[115163 rows x 14 columns]"
      ]
     },
     "execution_count": 40,
     "metadata": {},
     "output_type": "execute_result"
    }
   ],
   "source": [
    "sig_rows = valid_cleared.service_name.apply(lambda x: x in service_names_sig)\n",
    "sig_df = valid_cleared[sig_rows.values].reset_index(drop=True)\n",
    "sig_df.dropna(inplace=True)\n",
    "\n",
    "prio_high_cutoff = np.percentile(sig_df.payment_diff, 80)\n",
    "sig_df['payment_prio'] = sig_df.payment_diff.apply(categorize_differences, args=(0,prio_high_cutoff))\n",
    "\n",
    "\n",
    "sig_df"
   ]
  },
  {
   "cell_type": "code",
   "execution_count": 41,
   "id": "e5054362",
   "metadata": {},
   "outputs": [
    {
     "data": {
      "text/plain": [
       "<AxesSubplot:xlabel='case_age_days', ylabel='payment_diff'>"
      ]
     },
     "execution_count": 41,
     "metadata": {},
     "output_type": "execute_result"
    },
    {
     "data": {
      "image/png": "[encoded data removed]",
      "text/plain": [
       "<Figure size 432x288 with 1 Axes>"
      ]
     },
     "metadata": {
      "needs_background": "light"
     },
     "output_type": "display_data"
    }
   ],
   "source": [
    "sig_df.plot(x='case_age_days', y='payment_diff', kind='scatter')"
   ]
  },
  {
   "cell_type": "code",
   "execution_count": 42,
   "id": "a956ebdf",
   "metadata": {},
   "outputs": [],
   "source": [
    "col_names = np.concatenate((service_names_sig.values, ['payment_before']))\n",
    "#col_names = np.append(service_names_sig.values, sig_df.pole.unique())"
   ]
  },
  {
   "cell_type": "code",
   "execution_count": null,
   "id": "721288f4",
   "metadata": {},
   "outputs": [],
   "source": []
  },
  {
   "cell_type": "code",
   "execution_count": null,
   "id": "a03648d7",
   "metadata": {},
   "outputs": [],
   "source": []
  },
  {
   "cell_type": "code",
   "execution_count": null,
   "id": "a20261ac",
   "metadata": {},
   "outputs": [],
   "source": []
  },
  {
   "cell_type": "code",
   "execution_count": null,
   "id": "790062ec",
   "metadata": {},
   "outputs": [],
   "source": []
  },
  {
   "cell_type": "code",
   "execution_count": null,
   "id": "dc4379d3",
   "metadata": {},
   "outputs": [],
   "source": []
  },
  {
   "cell_type": "code",
   "execution_count": null,
   "id": "8ce1094a",
   "metadata": {},
   "outputs": [],
   "source": []
  },
  {
   "cell_type": "code",
   "execution_count": null,
   "id": "4dc043ae",
   "metadata": {},
   "outputs": [],
   "source": []
  },
  {
   "cell_type": "code",
   "execution_count": null,
   "id": "4e84af79",
   "metadata": {},
   "outputs": [],
   "source": []
  },
  {
   "cell_type": "code",
   "execution_count": 43,
   "id": "13a0b670",
   "metadata": {},
   "outputs": [],
   "source": [
    "X = sig_df.loc[:,['service_name', 'payment_before']]\n",
    "one_hotter = OneHotEncoder(sparse=False)\n",
    "normer = StandardScaler()\n",
    "sig_transformer = ColumnTransformer([('categories', one_hotter, ['service_name']),\n",
    "                                     ('numerical', normer, ['payment_before'])])\n",
    "X = pd.DataFrame(sig_transformer.fit_transform(X), columns=col_names)\n",
    "y = sig_df['payment_prio']\n"
   ]
  },
  {
   "cell_type": "code",
   "execution_count": 44,
   "id": "30c64b7e",
   "metadata": {},
   "outputs": [],
   "source": [
    "#test and rest sets\n",
    "X_rest,X_test,y_rest,y_test = train_test_split(X,y, test_size=0.3, random_state=32)\n",
    "#train and validation sets"
   ]
  },
  {
   "cell_type": "code",
   "execution_count": 45,
   "id": "f6aaed75",
   "metadata": {},
   "outputs": [],
   "source": [
    "X_train,X_val,y_train,y_val = train_test_split(X_rest,y_rest, test_size=0.2, random_state=32)"
   ]
  },
  {
   "cell_type": "code",
   "execution_count": null,
   "id": "881095d2",
   "metadata": {},
   "outputs": [],
   "source": []
  },
  {
   "cell_type": "code",
   "execution_count": 46,
   "id": "0add87e7",
   "metadata": {},
   "outputs": [],
   "source": [
    "def score(og, preds):\n",
    "    return 1 - ((((og-preds)**2).sum()) / (((og-og.mean())**2).sum()))"
   ]
  },
  {
   "cell_type": "code",
   "execution_count": 47,
   "id": "9cce3cac",
   "metadata": {},
   "outputs": [
    {
     "name": "stderr",
     "output_type": "stream",
     "text": [
      "D:\\anaconda\\envs\\parking\\lib\\site-packages\\sklearn\\linear_model\\_logistic.py:444: ConvergenceWarning: lbfgs failed to converge (status=1):\n",
      "STOP: TOTAL NO. of ITERATIONS REACHED LIMIT.\n",
      "\n",
      "Increase the number of iterations (max_iter) or scale the data as shown in:\n",
      "    https://scikit-learn.org/stable/modules/preprocessing.html\n",
      "Please also refer to the documentation for alternative solver options:\n",
      "    https://scikit-learn.org/stable/modules/linear_model.html#logistic-regression\n",
      "  n_iter_i = _check_optimize_result(\n"
     ]
    },
    {
     "data": {
      "text/plain": [
       "0.5601935123736277"
      ]
     },
     "metadata": {},
     "output_type": "display_data"
    },
    {
     "data": {
      "text/plain": [
       "0.3381504682751349"
      ]
     },
     "metadata": {},
     "output_type": "display_data"
    },
    {
     "name": "stderr",
     "output_type": "stream",
     "text": [
      "D:\\anaconda\\envs\\parking\\lib\\site-packages\\sklearn\\neighbors\\_classification.py:237: FutureWarning: Unlike other reduction functions (e.g. `skew`, `kurtosis`), the default behavior of `mode` typically preserves the axis it acts along. In SciPy 1.11.0, this behavior will change: the default value of `keepdims` will become False, the `axis` over which the statistic is taken will be eliminated, and the value None will no longer be accepted. Set `keepdims` to True or False to avoid this warning.\n",
      "  mode, _ = stats.mode(_y[neigh_ind, k], axis=1)\n"
     ]
    },
    {
     "data": {
      "text/plain": [
       "0.5860571853873349"
      ]
     },
     "metadata": {},
     "output_type": "display_data"
    },
    {
     "data": {
      "text/plain": [
       "0.5672021335979657"
      ]
     },
     "metadata": {},
     "output_type": "display_data"
    },
    {
     "ename": "KeyboardInterrupt",
     "evalue": "",
     "output_type": "error",
     "traceback": [
      "\u001b[1;31m---------------------------------------------------------------------------\u001b[0m",
      "\u001b[1;31mKeyboardInterrupt\u001b[0m                         Traceback (most recent call last)",
      "Input \u001b[1;32mIn [47]\u001b[0m, in \u001b[0;36m<cell line: 23>\u001b[1;34m()\u001b[0m\n\u001b[0;32m     21\u001b[0m \u001b[38;5;66;03m#Adaboost\u001b[39;00m\n\u001b[0;32m     22\u001b[0m ada_mdl \u001b[38;5;241m=\u001b[39m AdaBoostClassifier(n_estimators\u001b[38;5;241m=\u001b[39m\u001b[38;5;241m1000\u001b[39m, learning_rate\u001b[38;5;241m=\u001b[39m\u001b[38;5;241m1\u001b[39m, random_state\u001b[38;5;241m=\u001b[39m\u001b[38;5;241m32\u001b[39m)\n\u001b[1;32m---> 23\u001b[0m \u001b[43mada_mdl\u001b[49m\u001b[38;5;241;43m.\u001b[39;49m\u001b[43mfit\u001b[49m\u001b[43m(\u001b[49m\u001b[43mX_train\u001b[49m\u001b[43m,\u001b[49m\u001b[43m \u001b[49m\u001b[43my_train\u001b[49m\u001b[43m)\u001b[49m\n\u001b[0;32m     24\u001b[0m ada_preds \u001b[38;5;241m=\u001b[39m ada_mdl\u001b[38;5;241m.\u001b[39mpredict(X_val)\n\u001b[0;32m     25\u001b[0m display(accuracy_score(y_val,ada_preds))\n",
      "File \u001b[1;32mD:\\anaconda\\envs\\parking\\lib\\site-packages\\sklearn\\ensemble\\_weight_boosting.py:506\u001b[0m, in \u001b[0;36mAdaBoostClassifier.fit\u001b[1;34m(self, X, y, sample_weight)\u001b[0m\n\u001b[0;32m    500\u001b[0m     \u001b[38;5;28;01mraise\u001b[39;00m \u001b[38;5;167;01mValueError\u001b[39;00m(\n\u001b[0;32m    501\u001b[0m         \u001b[38;5;124m\"\u001b[39m\u001b[38;5;124mAlgorithm must be \u001b[39m\u001b[38;5;124m'\u001b[39m\u001b[38;5;124mSAMME\u001b[39m\u001b[38;5;124m'\u001b[39m\u001b[38;5;124m or \u001b[39m\u001b[38;5;124m'\u001b[39m\u001b[38;5;124mSAMME.R\u001b[39m\u001b[38;5;124m'\u001b[39m\u001b[38;5;124m.\u001b[39m\u001b[38;5;124m\"\u001b[39m\n\u001b[0;32m    502\u001b[0m         \u001b[38;5;124mf\u001b[39m\u001b[38;5;124m\"\u001b[39m\u001b[38;5;124m Got \u001b[39m\u001b[38;5;132;01m{\u001b[39;00m\u001b[38;5;28mself\u001b[39m\u001b[38;5;241m.\u001b[39malgorithm\u001b[38;5;132;01m!r}\u001b[39;00m\u001b[38;5;124m instead.\u001b[39m\u001b[38;5;124m\"\u001b[39m\n\u001b[0;32m    503\u001b[0m     )\n\u001b[0;32m    505\u001b[0m \u001b[38;5;66;03m# Fit\u001b[39;00m\n\u001b[1;32m--> 506\u001b[0m \u001b[38;5;28;01mreturn\u001b[39;00m \u001b[38;5;28;43msuper\u001b[39;49m\u001b[43m(\u001b[49m\u001b[43m)\u001b[49m\u001b[38;5;241;43m.\u001b[39;49m\u001b[43mfit\u001b[49m\u001b[43m(\u001b[49m\u001b[43mX\u001b[49m\u001b[43m,\u001b[49m\u001b[43m \u001b[49m\u001b[43my\u001b[49m\u001b[43m,\u001b[49m\u001b[43m \u001b[49m\u001b[43msample_weight\u001b[49m\u001b[43m)\u001b[49m\n",
      "File \u001b[1;32mD:\\anaconda\\envs\\parking\\lib\\site-packages\\sklearn\\ensemble\\_weight_boosting.py:160\u001b[0m, in \u001b[0;36mBaseWeightBoosting.fit\u001b[1;34m(self, X, y, sample_weight)\u001b[0m\n\u001b[0;32m    156\u001b[0m random_state \u001b[38;5;241m=\u001b[39m check_random_state(\u001b[38;5;28mself\u001b[39m\u001b[38;5;241m.\u001b[39mrandom_state)\n\u001b[0;32m    158\u001b[0m \u001b[38;5;28;01mfor\u001b[39;00m iboost \u001b[38;5;129;01min\u001b[39;00m \u001b[38;5;28mrange\u001b[39m(\u001b[38;5;28mself\u001b[39m\u001b[38;5;241m.\u001b[39mn_estimators):\n\u001b[0;32m    159\u001b[0m     \u001b[38;5;66;03m# Boosting step\u001b[39;00m\n\u001b[1;32m--> 160\u001b[0m     sample_weight, estimator_weight, estimator_error \u001b[38;5;241m=\u001b[39m \u001b[38;5;28;43mself\u001b[39;49m\u001b[38;5;241;43m.\u001b[39;49m\u001b[43m_boost\u001b[49m\u001b[43m(\u001b[49m\n\u001b[0;32m    161\u001b[0m \u001b[43m        \u001b[49m\u001b[43miboost\u001b[49m\u001b[43m,\u001b[49m\u001b[43m \u001b[49m\u001b[43mX\u001b[49m\u001b[43m,\u001b[49m\u001b[43m \u001b[49m\u001b[43my\u001b[49m\u001b[43m,\u001b[49m\u001b[43m \u001b[49m\u001b[43msample_weight\u001b[49m\u001b[43m,\u001b[49m\u001b[43m \u001b[49m\u001b[43mrandom_state\u001b[49m\n\u001b[0;32m    162\u001b[0m \u001b[43m    \u001b[49m\u001b[43m)\u001b[49m\n\u001b[0;32m    164\u001b[0m     \u001b[38;5;66;03m# Early termination\u001b[39;00m\n\u001b[0;32m    165\u001b[0m     \u001b[38;5;28;01mif\u001b[39;00m sample_weight \u001b[38;5;129;01mis\u001b[39;00m \u001b[38;5;28;01mNone\u001b[39;00m:\n",
      "File \u001b[1;32mD:\\anaconda\\envs\\parking\\lib\\site-packages\\sklearn\\ensemble\\_weight_boosting.py:568\u001b[0m, in \u001b[0;36mAdaBoostClassifier._boost\u001b[1;34m(self, iboost, X, y, sample_weight, random_state)\u001b[0m\n\u001b[0;32m    529\u001b[0m \u001b[38;5;124;03m\"\"\"Implement a single boost.\u001b[39;00m\n\u001b[0;32m    530\u001b[0m \n\u001b[0;32m    531\u001b[0m \u001b[38;5;124;03mPerform a single boost according to the real multi-class SAMME.R\u001b[39;00m\n\u001b[1;32m   (...)\u001b[0m\n\u001b[0;32m    565\u001b[0m \u001b[38;5;124;03m    If None then boosting has terminated early.\u001b[39;00m\n\u001b[0;32m    566\u001b[0m \u001b[38;5;124;03m\"\"\"\u001b[39;00m\n\u001b[0;32m    567\u001b[0m \u001b[38;5;28;01mif\u001b[39;00m \u001b[38;5;28mself\u001b[39m\u001b[38;5;241m.\u001b[39malgorithm \u001b[38;5;241m==\u001b[39m \u001b[38;5;124m\"\u001b[39m\u001b[38;5;124mSAMME.R\u001b[39m\u001b[38;5;124m\"\u001b[39m:\n\u001b[1;32m--> 568\u001b[0m     \u001b[38;5;28;01mreturn\u001b[39;00m \u001b[38;5;28;43mself\u001b[39;49m\u001b[38;5;241;43m.\u001b[39;49m\u001b[43m_boost_real\u001b[49m\u001b[43m(\u001b[49m\u001b[43miboost\u001b[49m\u001b[43m,\u001b[49m\u001b[43m \u001b[49m\u001b[43mX\u001b[49m\u001b[43m,\u001b[49m\u001b[43m \u001b[49m\u001b[43my\u001b[49m\u001b[43m,\u001b[49m\u001b[43m \u001b[49m\u001b[43msample_weight\u001b[49m\u001b[43m,\u001b[49m\u001b[43m \u001b[49m\u001b[43mrandom_state\u001b[49m\u001b[43m)\u001b[49m\n\u001b[0;32m    570\u001b[0m \u001b[38;5;28;01melse\u001b[39;00m:  \u001b[38;5;66;03m# elif self.algorithm == \"SAMME\":\u001b[39;00m\n\u001b[0;32m    571\u001b[0m     \u001b[38;5;28;01mreturn\u001b[39;00m \u001b[38;5;28mself\u001b[39m\u001b[38;5;241m.\u001b[39m_boost_discrete(iboost, X, y, sample_weight, random_state)\n",
      "File \u001b[1;32mD:\\anaconda\\envs\\parking\\lib\\site-packages\\sklearn\\ensemble\\_weight_boosting.py:591\u001b[0m, in \u001b[0;36mAdaBoostClassifier._boost_real\u001b[1;34m(self, iboost, X, y, sample_weight, random_state)\u001b[0m\n\u001b[0;32m    588\u001b[0m incorrect \u001b[38;5;241m=\u001b[39m y_predict \u001b[38;5;241m!=\u001b[39m y\n\u001b[0;32m    590\u001b[0m \u001b[38;5;66;03m# Error fraction\u001b[39;00m\n\u001b[1;32m--> 591\u001b[0m estimator_error \u001b[38;5;241m=\u001b[39m np\u001b[38;5;241m.\u001b[39mmean(\u001b[43mnp\u001b[49m\u001b[38;5;241;43m.\u001b[39;49m\u001b[43maverage\u001b[49m\u001b[43m(\u001b[49m\u001b[43mincorrect\u001b[49m\u001b[43m,\u001b[49m\u001b[43m \u001b[49m\u001b[43mweights\u001b[49m\u001b[38;5;241;43m=\u001b[39;49m\u001b[43msample_weight\u001b[49m\u001b[43m,\u001b[49m\u001b[43m \u001b[49m\u001b[43maxis\u001b[49m\u001b[38;5;241;43m=\u001b[39;49m\u001b[38;5;241;43m0\u001b[39;49m\u001b[43m)\u001b[49m)\n\u001b[0;32m    593\u001b[0m \u001b[38;5;66;03m# Stop if classification is perfect\u001b[39;00m\n\u001b[0;32m    594\u001b[0m \u001b[38;5;28;01mif\u001b[39;00m estimator_error \u001b[38;5;241m<\u001b[39m\u001b[38;5;241m=\u001b[39m \u001b[38;5;241m0\u001b[39m:\n",
      "File \u001b[1;32m<__array_function__ internals>:180\u001b[0m, in \u001b[0;36maverage\u001b[1;34m(*args, **kwargs)\u001b[0m\n",
      "File \u001b[1;32mD:\\anaconda\\envs\\parking\\lib\\site-packages\\numpy\\lib\\function_base.py:545\u001b[0m, in \u001b[0;36maverage\u001b[1;34m(a, axis, weights, returned, keepdims)\u001b[0m\n\u001b[0;32m    542\u001b[0m     wgt \u001b[38;5;241m=\u001b[39m np\u001b[38;5;241m.\u001b[39mbroadcast_to(wgt, (a\u001b[38;5;241m.\u001b[39mndim\u001b[38;5;241m-\u001b[39m\u001b[38;5;241m1\u001b[39m)\u001b[38;5;241m*\u001b[39m(\u001b[38;5;241m1\u001b[39m,) \u001b[38;5;241m+\u001b[39m wgt\u001b[38;5;241m.\u001b[39mshape)\n\u001b[0;32m    543\u001b[0m     wgt \u001b[38;5;241m=\u001b[39m wgt\u001b[38;5;241m.\u001b[39mswapaxes(\u001b[38;5;241m-\u001b[39m\u001b[38;5;241m1\u001b[39m, axis)\n\u001b[1;32m--> 545\u001b[0m scl \u001b[38;5;241m=\u001b[39m wgt\u001b[38;5;241m.\u001b[39msum(axis\u001b[38;5;241m=\u001b[39maxis, dtype\u001b[38;5;241m=\u001b[39mresult_dtype, \u001b[38;5;241m*\u001b[39m\u001b[38;5;241m*\u001b[39mkeepdims_kw)\n\u001b[0;32m    546\u001b[0m \u001b[38;5;28;01mif\u001b[39;00m np\u001b[38;5;241m.\u001b[39many(scl \u001b[38;5;241m==\u001b[39m \u001b[38;5;241m0.0\u001b[39m):\n\u001b[0;32m    547\u001b[0m     \u001b[38;5;28;01mraise\u001b[39;00m \u001b[38;5;167;01mZeroDivisionError\u001b[39;00m(\n\u001b[0;32m    548\u001b[0m         \u001b[38;5;124m\"\u001b[39m\u001b[38;5;124mWeights sum to zero, can\u001b[39m\u001b[38;5;124m'\u001b[39m\u001b[38;5;124mt be normalized\u001b[39m\u001b[38;5;124m\"\u001b[39m)\n",
      "File \u001b[1;32mD:\\anaconda\\envs\\parking\\lib\\site-packages\\numpy\\core\\_methods.py:48\u001b[0m, in \u001b[0;36m_sum\u001b[1;34m(a, axis, dtype, out, keepdims, initial, where)\u001b[0m\n\u001b[0;32m     46\u001b[0m \u001b[38;5;28;01mdef\u001b[39;00m \u001b[38;5;21m_sum\u001b[39m(a, axis\u001b[38;5;241m=\u001b[39m\u001b[38;5;28;01mNone\u001b[39;00m, dtype\u001b[38;5;241m=\u001b[39m\u001b[38;5;28;01mNone\u001b[39;00m, out\u001b[38;5;241m=\u001b[39m\u001b[38;5;28;01mNone\u001b[39;00m, keepdims\u001b[38;5;241m=\u001b[39m\u001b[38;5;28;01mFalse\u001b[39;00m,\n\u001b[0;32m     47\u001b[0m          initial\u001b[38;5;241m=\u001b[39m_NoValue, where\u001b[38;5;241m=\u001b[39m\u001b[38;5;28;01mTrue\u001b[39;00m):\n\u001b[1;32m---> 48\u001b[0m     \u001b[38;5;28;01mreturn\u001b[39;00m \u001b[43mumr_sum\u001b[49m\u001b[43m(\u001b[49m\u001b[43ma\u001b[49m\u001b[43m,\u001b[49m\u001b[43m \u001b[49m\u001b[43maxis\u001b[49m\u001b[43m,\u001b[49m\u001b[43m \u001b[49m\u001b[43mdtype\u001b[49m\u001b[43m,\u001b[49m\u001b[43m \u001b[49m\u001b[43mout\u001b[49m\u001b[43m,\u001b[49m\u001b[43m \u001b[49m\u001b[43mkeepdims\u001b[49m\u001b[43m,\u001b[49m\u001b[43m \u001b[49m\u001b[43minitial\u001b[49m\u001b[43m,\u001b[49m\u001b[43m \u001b[49m\u001b[43mwhere\u001b[49m\u001b[43m)\u001b[49m\n",
      "\u001b[1;31mKeyboardInterrupt\u001b[0m: "
     ]
    }
   ],
   "source": [
    "#Logistic Regression\n",
    "log_reg_mdl = LogisticRegression()\n",
    "log_reg_mdl.fit(X_train, y_train)\n",
    "log_reg_preds = log_reg_mdl.predict(X_val)\n",
    "display(accuracy_score(y_val,log_reg_preds))\n",
    "#Naive Bayes\n",
    "nb_mdl = GaussianNB()\n",
    "nb_mdl.fit(X_train, y_train)\n",
    "nb_preds = nb_mdl.predict(X_val)\n",
    "display(accuracy_score(y_val,nb_preds))\n",
    "#KNearest Neighbors\n",
    "knn_mdl = KNeighborsClassifier()\n",
    "knn_mdl.fit(X_train, y_train)\n",
    "knn_preds = knn_mdl.predict(X_val)\n",
    "display(accuracy_score(y_val,knn_preds))\n",
    "#Support Vector Machines\n",
    "svc_mdl = SVC()\n",
    "svc_mdl.fit(X_train,y_train)\n",
    "svc_preds = svc_mdl.predict(X_val)\n",
    "display(accuracy_score(svc_preds, y_val))\n",
    "#Adaboost\n",
    "ada_mdl = AdaBoostClassifier(n_estimators=1000, learning_rate=1, random_state=32)\n",
    "ada_mdl.fit(X_train, y_train)\n",
    "ada_preds = ada_mdl.predict(X_val)\n",
    "display(accuracy_score(y_val,ada_preds))\n",
    "#Bagging Classifier\n",
    "bag_mdl = BaggingClassifier()\n",
    "bag_mdl.fit(X_train,y_train)\n",
    "bag_preds = bag_mdl.predict(X_val)\n",
    "display(accuracy_score(y_val,bag_preds))\n",
    "#Random Forest\n",
    "rf_mdl = RandomForestClassifier(n_estimators=100, random_state=32)\n",
    "rf_mdl.fit(X_train, y_train)\n",
    "rf_preds = rf_mdl.predict(X_val)\n",
    "display(accuracy_score(y_val,rf_preds))"
   ]
  },
  {
   "cell_type": "code",
   "execution_count": null,
   "id": "898713ca",
   "metadata": {},
   "outputs": [],
   "source": [
    "knn_params = {'n_neighbors': [3,5,7]}\n",
    "svc_params = {'C':[0.5,0.7,1,1.5,2],\n",
    "              'class_weight': ['balanced'],\n",
    "              'random_state': [32]}\n",
    "ada_params = {'n_estimators' : [700, 1000, 2000, 4000],\n",
    "              'learning_rate' : [0.3, 0.8, 1, 1.2],\n",
    "              'random_state': [32]}\n",
    "bag_params = {'n_estimators' : [700, 1000, 2000, 4000],\n",
    "              'random_state': [32]}\n",
    "rf_params = {'n_estimators' : [2000, 4000],\n",
    "             'min_samples_split': [3,5,10,15],\n",
    "             'min_samples_leaf': [2,3,5,8,10],\n",
    "             'random_state': [32],\n",
    "             'class_weight': ['balanced']}\n"
   ]
  },
  {
   "cell_type": "code",
   "execution_count": null,
   "id": "2afc1a3b",
   "metadata": {},
   "outputs": [],
   "source": [
    "#knn_grid = GridSearchCV(knn_mdl, knn_params)\n",
    "#knn_grid.fit(X_train, y_train)\n",
    "\n",
    "svc_grid = GridSearchCV(svc_mdl, svc_params, verbose=2)\n",
    "svc_grid.fit(X_train, y_train)\n",
    "\n",
    "ada_grid = GridSearchCV(ada_mdl, ada_params, verbose=2)\n",
    "ada_grid.fit(X_train, y_train)\n",
    "\n",
    "bag_grid = GridSearchCV(bag_mdl, bag_params, verbose=2)\n",
    "bag_grid.fit(X_train, y_train)"
   ]
  },
  {
   "cell_type": "code",
   "execution_count": null,
   "id": "4f257065",
   "metadata": {},
   "outputs": [],
   "source": [
    "rf_grid = GridSearchCV(rf_mdl, rf_params, verbose=2.1)\n",
    "rf_grid.fit(X_train, y_train)"
   ]
  },
  {
   "cell_type": "code",
   "execution_count": null,
   "id": "71492e6b",
   "metadata": {},
   "outputs": [],
   "source": [
    "rf_grid.best_params_"
   ]
  },
  {
   "cell_type": "code",
   "execution_count": null,
   "id": "7880b2ce",
   "metadata": {},
   "outputs": [],
   "source": [
    "bag_grid.best_params_"
   ]
  },
  {
   "cell_type": "code",
   "execution_count": null,
   "id": "2a375b8b",
   "metadata": {},
   "outputs": [],
   "source": [
    "ada_grid.best_params_"
   ]
  },
  {
   "cell_type": "code",
   "execution_count": null,
   "id": "55e518ad",
   "metadata": {},
   "outputs": [],
   "source": [
    "svc_grid.best_params_"
   ]
  },
  {
   "cell_type": "code",
   "execution_count": null,
   "id": "b2a0d193",
   "metadata": {},
   "outputs": [],
   "source": [
    "preds = best_rf_model.predict(X_val)\n",
    "\n",
    "accuracy_score(y_val, preds)"
   ]
  },
  {
   "cell_type": "code",
   "execution_count": null,
   "id": "d3166b31",
   "metadata": {},
   "outputs": [],
   "source": [
    "knn_grid = GridSearchCV(knn_mdl, knn_params)\n",
    "knn_grid.fit(X_train, y_train)"
   ]
  },
  {
   "cell_type": "code",
   "execution_count": null,
   "id": "27294936",
   "metadata": {},
   "outputs": [],
   "source": [
    "svc_mdl = SVR()\n",
    "svc_mdl.fit(X_train,y_train)\n",
    "svc_preds = svc_mdl.predict(X_val)\n",
    "display(score(svc_preds, y_val))"
   ]
  },
  {
   "cell_type": "code",
   "execution_count": null,
   "id": "520fd959",
   "metadata": {},
   "outputs": [],
   "source": [
    "rf_mdl = RandomForestRegressor(n_estimators=100, random_state=32)\n",
    "rf_mdl.fit(X_train, y_train)\n",
    "rf_preds = rf_mdl.predict(X_val)\n",
    "display(score(rf_preds, y_val))"
   ]
  },
  {
   "cell_type": "code",
   "execution_count": null,
   "id": "acb85989",
   "metadata": {},
   "outputs": [],
   "source": []
  },
  {
   "cell_type": "code",
   "execution_count": null,
   "id": "18c00227",
   "metadata": {},
   "outputs": [],
   "source": [
    "#TODO complete training and testing with sklearn esimators\n",
    "#TODO replace sklearn estimators with own implementation\n",
    "#TODO REMOVE DISTANCE"
   ]
  },
  {
   "cell_type": "code",
   "execution_count": null,
   "id": "a51014f3",
   "metadata": {},
   "outputs": [],
   "source": [
    "svc_preds"
   ]
  },
  {
   "cell_type": "code",
   "execution_count": null,
   "id": "e576c6d2",
   "metadata": {},
   "outputs": [],
   "source": [
    "y_val"
   ]
  },
  {
   "cell_type": "code",
   "execution_count": null,
   "id": "7c243b06",
   "metadata": {},
   "outputs": [],
   "source": [
    "X"
   ]
  },
  {
   "cell_type": "code",
   "execution_count": null,
   "id": "596e1764",
   "metadata": {},
   "outputs": [],
   "source": [
    "len(sig_df.pole.unique())"
   ]
  },
  {
   "cell_type": "code",
   "execution_count": null,
   "id": "80a41458",
   "metadata": {},
   "outputs": [],
   "source": []
  },
  {
   "cell_type": "code",
   "execution_count": null,
   "id": "8a6211d6",
   "metadata": {},
   "outputs": [],
   "source": [
    "y"
   ]
  },
  {
   "cell_type": "code",
   "execution_count": null,
   "id": "d7fa1262",
   "metadata": {},
   "outputs": [],
   "source": []
  }
 ],
 "metadata": {
  "kernelspec": {
   "display_name": "Python 3 (ipykernel)",
   "language": "python",
   "name": "python3"
  },
  "language_info": {
   "codemirror_mode": {
    "name": "ipython",
    "version": 3
   },
   "file_extension": ".py",
   "mimetype": "text/x-python",
   "name": "python",
   "nbconvert_exporter": "python",
   "pygments_lexer": "ipython3",
   "version": "3.10.5"
  }
 },
 "nbformat": 4,
 "nbformat_minor": 5
}
